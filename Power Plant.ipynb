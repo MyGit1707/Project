{
 "cells": [
  {
   "cell_type": "code",
   "execution_count": 2,
   "id": "8dfbc1d9",
   "metadata": {},
   "outputs": [],
   "source": [
    "import pandas as pd\n",
    "import seaborn as sns\n",
    "import matplotlib.pyplot as plt\n",
    "import warnings\n",
    "warnings.filterwarnings('ignore')"
   ]
  },
  {
   "cell_type": "code",
   "execution_count": 5,
   "id": "e994f8d0",
   "metadata": {},
   "outputs": [
    {
     "data": {
      "text/html": [
       "<div>\n",
       "<style scoped>\n",
       "    .dataframe tbody tr th:only-of-type {\n",
       "        vertical-align: middle;\n",
       "    }\n",
       "\n",
       "    .dataframe tbody tr th {\n",
       "        vertical-align: top;\n",
       "    }\n",
       "\n",
       "    .dataframe thead th {\n",
       "        text-align: right;\n",
       "    }\n",
       "</style>\n",
       "<table border=\"1\" class=\"dataframe\">\n",
       "  <thead>\n",
       "    <tr style=\"text-align: right;\">\n",
       "      <th></th>\n",
       "      <th>country</th>\n",
       "      <th>country_long</th>\n",
       "      <th>name</th>\n",
       "      <th>gppd_idnr</th>\n",
       "      <th>capacity_mw</th>\n",
       "      <th>latitude</th>\n",
       "      <th>longitude</th>\n",
       "      <th>primary_fuel</th>\n",
       "      <th>other_fuel1</th>\n",
       "      <th>other_fuel2</th>\n",
       "      <th>...</th>\n",
       "      <th>geolocation_source</th>\n",
       "      <th>wepp_id</th>\n",
       "      <th>year_of_capacity_data</th>\n",
       "      <th>generation_gwh_2013</th>\n",
       "      <th>generation_gwh_2014</th>\n",
       "      <th>generation_gwh_2015</th>\n",
       "      <th>generation_gwh_2016</th>\n",
       "      <th>generation_gwh_2017</th>\n",
       "      <th>generation_data_source</th>\n",
       "      <th>estimated_generation_gwh</th>\n",
       "    </tr>\n",
       "  </thead>\n",
       "  <tbody>\n",
       "    <tr>\n",
       "      <th>0</th>\n",
       "      <td>IND</td>\n",
       "      <td>India</td>\n",
       "      <td>ACME Solar Tower</td>\n",
       "      <td>WRI1020239</td>\n",
       "      <td>2.5</td>\n",
       "      <td>28.1839</td>\n",
       "      <td>73.2407</td>\n",
       "      <td>Solar</td>\n",
       "      <td>NaN</td>\n",
       "      <td>NaN</td>\n",
       "      <td>...</td>\n",
       "      <td>National Renewable Energy Laboratory</td>\n",
       "      <td>NaN</td>\n",
       "      <td>NaN</td>\n",
       "      <td>NaN</td>\n",
       "      <td>NaN</td>\n",
       "      <td>NaN</td>\n",
       "      <td>NaN</td>\n",
       "      <td>NaN</td>\n",
       "      <td>NaN</td>\n",
       "      <td>NaN</td>\n",
       "    </tr>\n",
       "    <tr>\n",
       "      <th>1</th>\n",
       "      <td>IND</td>\n",
       "      <td>India</td>\n",
       "      <td>ADITYA CEMENT WORKS</td>\n",
       "      <td>WRI1019881</td>\n",
       "      <td>98.0</td>\n",
       "      <td>24.7663</td>\n",
       "      <td>74.6090</td>\n",
       "      <td>Coal</td>\n",
       "      <td>NaN</td>\n",
       "      <td>NaN</td>\n",
       "      <td>...</td>\n",
       "      <td>WRI</td>\n",
       "      <td>NaN</td>\n",
       "      <td>NaN</td>\n",
       "      <td>NaN</td>\n",
       "      <td>NaN</td>\n",
       "      <td>NaN</td>\n",
       "      <td>NaN</td>\n",
       "      <td>NaN</td>\n",
       "      <td>NaN</td>\n",
       "      <td>NaN</td>\n",
       "    </tr>\n",
       "    <tr>\n",
       "      <th>2</th>\n",
       "      <td>IND</td>\n",
       "      <td>India</td>\n",
       "      <td>AES Saurashtra Windfarms</td>\n",
       "      <td>WRI1026669</td>\n",
       "      <td>39.2</td>\n",
       "      <td>21.9038</td>\n",
       "      <td>69.3732</td>\n",
       "      <td>Wind</td>\n",
       "      <td>NaN</td>\n",
       "      <td>NaN</td>\n",
       "      <td>...</td>\n",
       "      <td>WRI</td>\n",
       "      <td>NaN</td>\n",
       "      <td>NaN</td>\n",
       "      <td>NaN</td>\n",
       "      <td>NaN</td>\n",
       "      <td>NaN</td>\n",
       "      <td>NaN</td>\n",
       "      <td>NaN</td>\n",
       "      <td>NaN</td>\n",
       "      <td>NaN</td>\n",
       "    </tr>\n",
       "    <tr>\n",
       "      <th>3</th>\n",
       "      <td>IND</td>\n",
       "      <td>India</td>\n",
       "      <td>AGARTALA GT</td>\n",
       "      <td>IND0000001</td>\n",
       "      <td>135.0</td>\n",
       "      <td>23.8712</td>\n",
       "      <td>91.3602</td>\n",
       "      <td>Gas</td>\n",
       "      <td>NaN</td>\n",
       "      <td>NaN</td>\n",
       "      <td>...</td>\n",
       "      <td>WRI</td>\n",
       "      <td>NaN</td>\n",
       "      <td>2018.0</td>\n",
       "      <td>631.777928</td>\n",
       "      <td>617.789264</td>\n",
       "      <td>843.747000</td>\n",
       "      <td>886.004428</td>\n",
       "      <td>663.774500</td>\n",
       "      <td>Central Electricity Authority</td>\n",
       "      <td>NaN</td>\n",
       "    </tr>\n",
       "    <tr>\n",
       "      <th>4</th>\n",
       "      <td>IND</td>\n",
       "      <td>India</td>\n",
       "      <td>AKALTARA TPP</td>\n",
       "      <td>IND0000002</td>\n",
       "      <td>1800.0</td>\n",
       "      <td>21.9603</td>\n",
       "      <td>82.4091</td>\n",
       "      <td>Coal</td>\n",
       "      <td>Oil</td>\n",
       "      <td>NaN</td>\n",
       "      <td>...</td>\n",
       "      <td>WRI</td>\n",
       "      <td>NaN</td>\n",
       "      <td>2018.0</td>\n",
       "      <td>1668.290000</td>\n",
       "      <td>3035.550000</td>\n",
       "      <td>5916.370000</td>\n",
       "      <td>6243.000000</td>\n",
       "      <td>5385.579736</td>\n",
       "      <td>Central Electricity Authority</td>\n",
       "      <td>NaN</td>\n",
       "    </tr>\n",
       "    <tr>\n",
       "      <th>...</th>\n",
       "      <td>...</td>\n",
       "      <td>...</td>\n",
       "      <td>...</td>\n",
       "      <td>...</td>\n",
       "      <td>...</td>\n",
       "      <td>...</td>\n",
       "      <td>...</td>\n",
       "      <td>...</td>\n",
       "      <td>...</td>\n",
       "      <td>...</td>\n",
       "      <td>...</td>\n",
       "      <td>...</td>\n",
       "      <td>...</td>\n",
       "      <td>...</td>\n",
       "      <td>...</td>\n",
       "      <td>...</td>\n",
       "      <td>...</td>\n",
       "      <td>...</td>\n",
       "      <td>...</td>\n",
       "      <td>...</td>\n",
       "      <td>...</td>\n",
       "    </tr>\n",
       "    <tr>\n",
       "      <th>903</th>\n",
       "      <td>IND</td>\n",
       "      <td>India</td>\n",
       "      <td>YERMARUS TPP</td>\n",
       "      <td>IND0000513</td>\n",
       "      <td>1600.0</td>\n",
       "      <td>16.2949</td>\n",
       "      <td>77.3568</td>\n",
       "      <td>Coal</td>\n",
       "      <td>Oil</td>\n",
       "      <td>NaN</td>\n",
       "      <td>...</td>\n",
       "      <td>WRI</td>\n",
       "      <td>NaN</td>\n",
       "      <td>2018.0</td>\n",
       "      <td>NaN</td>\n",
       "      <td>NaN</td>\n",
       "      <td>0.994875</td>\n",
       "      <td>233.596650</td>\n",
       "      <td>865.400000</td>\n",
       "      <td>Central Electricity Authority</td>\n",
       "      <td>NaN</td>\n",
       "    </tr>\n",
       "    <tr>\n",
       "      <th>904</th>\n",
       "      <td>IND</td>\n",
       "      <td>India</td>\n",
       "      <td>Yelesandra Solar Power Plant</td>\n",
       "      <td>WRI1026222</td>\n",
       "      <td>3.0</td>\n",
       "      <td>12.8932</td>\n",
       "      <td>78.1654</td>\n",
       "      <td>Solar</td>\n",
       "      <td>NaN</td>\n",
       "      <td>NaN</td>\n",
       "      <td>...</td>\n",
       "      <td>Industry About</td>\n",
       "      <td>NaN</td>\n",
       "      <td>NaN</td>\n",
       "      <td>NaN</td>\n",
       "      <td>NaN</td>\n",
       "      <td>NaN</td>\n",
       "      <td>NaN</td>\n",
       "      <td>NaN</td>\n",
       "      <td>NaN</td>\n",
       "      <td>NaN</td>\n",
       "    </tr>\n",
       "    <tr>\n",
       "      <th>905</th>\n",
       "      <td>IND</td>\n",
       "      <td>India</td>\n",
       "      <td>Yelisirur wind power project</td>\n",
       "      <td>WRI1026776</td>\n",
       "      <td>25.5</td>\n",
       "      <td>15.2758</td>\n",
       "      <td>75.5811</td>\n",
       "      <td>Wind</td>\n",
       "      <td>NaN</td>\n",
       "      <td>NaN</td>\n",
       "      <td>...</td>\n",
       "      <td>WRI</td>\n",
       "      <td>NaN</td>\n",
       "      <td>NaN</td>\n",
       "      <td>NaN</td>\n",
       "      <td>NaN</td>\n",
       "      <td>NaN</td>\n",
       "      <td>NaN</td>\n",
       "      <td>NaN</td>\n",
       "      <td>NaN</td>\n",
       "      <td>NaN</td>\n",
       "    </tr>\n",
       "    <tr>\n",
       "      <th>906</th>\n",
       "      <td>IND</td>\n",
       "      <td>India</td>\n",
       "      <td>ZAWAR MINES</td>\n",
       "      <td>WRI1019901</td>\n",
       "      <td>80.0</td>\n",
       "      <td>24.3500</td>\n",
       "      <td>73.7477</td>\n",
       "      <td>Coal</td>\n",
       "      <td>NaN</td>\n",
       "      <td>NaN</td>\n",
       "      <td>...</td>\n",
       "      <td>WRI</td>\n",
       "      <td>NaN</td>\n",
       "      <td>NaN</td>\n",
       "      <td>NaN</td>\n",
       "      <td>NaN</td>\n",
       "      <td>NaN</td>\n",
       "      <td>NaN</td>\n",
       "      <td>NaN</td>\n",
       "      <td>NaN</td>\n",
       "      <td>NaN</td>\n",
       "    </tr>\n",
       "    <tr>\n",
       "      <th>907</th>\n",
       "      <td>IND</td>\n",
       "      <td>India</td>\n",
       "      <td>iEnergy Theni Wind Farm</td>\n",
       "      <td>WRI1026761</td>\n",
       "      <td>16.5</td>\n",
       "      <td>9.9344</td>\n",
       "      <td>77.4768</td>\n",
       "      <td>Wind</td>\n",
       "      <td>NaN</td>\n",
       "      <td>NaN</td>\n",
       "      <td>...</td>\n",
       "      <td>WRI</td>\n",
       "      <td>NaN</td>\n",
       "      <td>NaN</td>\n",
       "      <td>NaN</td>\n",
       "      <td>NaN</td>\n",
       "      <td>NaN</td>\n",
       "      <td>NaN</td>\n",
       "      <td>NaN</td>\n",
       "      <td>NaN</td>\n",
       "      <td>NaN</td>\n",
       "    </tr>\n",
       "  </tbody>\n",
       "</table>\n",
       "<p>908 rows × 25 columns</p>\n",
       "</div>"
      ],
      "text/plain": [
       "    country country_long                          name   gppd_idnr  \\\n",
       "0       IND        India              ACME Solar Tower  WRI1020239   \n",
       "1       IND        India           ADITYA CEMENT WORKS  WRI1019881   \n",
       "2       IND        India      AES Saurashtra Windfarms  WRI1026669   \n",
       "3       IND        India                   AGARTALA GT  IND0000001   \n",
       "4       IND        India                  AKALTARA TPP  IND0000002   \n",
       "..      ...          ...                           ...         ...   \n",
       "903     IND        India                  YERMARUS TPP  IND0000513   \n",
       "904     IND        India  Yelesandra Solar Power Plant  WRI1026222   \n",
       "905     IND        India  Yelisirur wind power project  WRI1026776   \n",
       "906     IND        India                   ZAWAR MINES  WRI1019901   \n",
       "907     IND        India       iEnergy Theni Wind Farm  WRI1026761   \n",
       "\n",
       "     capacity_mw  latitude  longitude primary_fuel other_fuel1 other_fuel2  \\\n",
       "0            2.5   28.1839    73.2407        Solar         NaN         NaN   \n",
       "1           98.0   24.7663    74.6090         Coal         NaN         NaN   \n",
       "2           39.2   21.9038    69.3732         Wind         NaN         NaN   \n",
       "3          135.0   23.8712    91.3602          Gas         NaN         NaN   \n",
       "4         1800.0   21.9603    82.4091         Coal         Oil         NaN   \n",
       "..           ...       ...        ...          ...         ...         ...   \n",
       "903       1600.0   16.2949    77.3568         Coal         Oil         NaN   \n",
       "904          3.0   12.8932    78.1654        Solar         NaN         NaN   \n",
       "905         25.5   15.2758    75.5811         Wind         NaN         NaN   \n",
       "906         80.0   24.3500    73.7477         Coal         NaN         NaN   \n",
       "907         16.5    9.9344    77.4768         Wind         NaN         NaN   \n",
       "\n",
       "     ...                    geolocation_source  wepp_id year_of_capacity_data  \\\n",
       "0    ...  National Renewable Energy Laboratory      NaN                   NaN   \n",
       "1    ...                                   WRI      NaN                   NaN   \n",
       "2    ...                                   WRI      NaN                   NaN   \n",
       "3    ...                                   WRI      NaN                2018.0   \n",
       "4    ...                                   WRI      NaN                2018.0   \n",
       "..   ...                                   ...      ...                   ...   \n",
       "903  ...                                   WRI      NaN                2018.0   \n",
       "904  ...                        Industry About      NaN                   NaN   \n",
       "905  ...                                   WRI      NaN                   NaN   \n",
       "906  ...                                   WRI      NaN                   NaN   \n",
       "907  ...                                   WRI      NaN                   NaN   \n",
       "\n",
       "    generation_gwh_2013 generation_gwh_2014 generation_gwh_2015  \\\n",
       "0                   NaN                 NaN                 NaN   \n",
       "1                   NaN                 NaN                 NaN   \n",
       "2                   NaN                 NaN                 NaN   \n",
       "3            631.777928          617.789264          843.747000   \n",
       "4           1668.290000         3035.550000         5916.370000   \n",
       "..                  ...                 ...                 ...   \n",
       "903                 NaN                 NaN            0.994875   \n",
       "904                 NaN                 NaN                 NaN   \n",
       "905                 NaN                 NaN                 NaN   \n",
       "906                 NaN                 NaN                 NaN   \n",
       "907                 NaN                 NaN                 NaN   \n",
       "\n",
       "     generation_gwh_2016  generation_gwh_2017         generation_data_source  \\\n",
       "0                    NaN                  NaN                            NaN   \n",
       "1                    NaN                  NaN                            NaN   \n",
       "2                    NaN                  NaN                            NaN   \n",
       "3             886.004428           663.774500  Central Electricity Authority   \n",
       "4            6243.000000          5385.579736  Central Electricity Authority   \n",
       "..                   ...                  ...                            ...   \n",
       "903           233.596650           865.400000  Central Electricity Authority   \n",
       "904                  NaN                  NaN                            NaN   \n",
       "905                  NaN                  NaN                            NaN   \n",
       "906                  NaN                  NaN                            NaN   \n",
       "907                  NaN                  NaN                            NaN   \n",
       "\n",
       "     estimated_generation_gwh  \n",
       "0                         NaN  \n",
       "1                         NaN  \n",
       "2                         NaN  \n",
       "3                         NaN  \n",
       "4                         NaN  \n",
       "..                        ...  \n",
       "903                       NaN  \n",
       "904                       NaN  \n",
       "905                       NaN  \n",
       "906                       NaN  \n",
       "907                       NaN  \n",
       "\n",
       "[908 rows x 25 columns]"
      ]
     },
     "execution_count": 5,
     "metadata": {},
     "output_type": "execute_result"
    }
   ],
   "source": [
    "df=pd.read_csv(\"PowerPlant.csv\")\n",
    "df"
   ]
  },
  {
   "cell_type": "code",
   "execution_count": 13,
   "id": "3dc81f36",
   "metadata": {},
   "outputs": [
    {
     "data": {
      "text/plain": [
       "Index(['country', 'country_long', 'name', 'gppd_idnr', 'capacity_mw',\n",
       "       'latitude', 'longitude', 'primary_fuel', 'commissioning_year', 'owner',\n",
       "       'source', 'url', 'geolocation_source', 'year_of_capacity_data',\n",
       "       'generation_gwh_2013', 'generation_gwh_2014', 'generation_gwh_2015',\n",
       "       'generation_gwh_2016', 'generation_gwh_2017', 'generation_data_source'],\n",
       "      dtype='object')"
      ]
     },
     "execution_count": 13,
     "metadata": {},
     "output_type": "execute_result"
    }
   ],
   "source": [
    "df.columns"
   ]
  },
  {
   "cell_type": "code",
   "execution_count": 8,
   "id": "47cf09e2",
   "metadata": {},
   "outputs": [
    {
     "data": {
      "text/plain": [
       "country                       0\n",
       "country_long                  0\n",
       "name                          0\n",
       "gppd_idnr                     0\n",
       "capacity_mw                   0\n",
       "latitude                     46\n",
       "longitude                    46\n",
       "primary_fuel                  0\n",
       "other_fuel1                 709\n",
       "other_fuel2                 907\n",
       "other_fuel3                 908\n",
       "commissioning_year          380\n",
       "owner                       566\n",
       "source                        0\n",
       "url                           0\n",
       "geolocation_source           19\n",
       "wepp_id                     908\n",
       "year_of_capacity_data       388\n",
       "generation_gwh_2013         524\n",
       "generation_gwh_2014         507\n",
       "generation_gwh_2015         483\n",
       "generation_gwh_2016         471\n",
       "generation_gwh_2017         465\n",
       "generation_data_source      458\n",
       "estimated_generation_gwh    908\n",
       "dtype: int64"
      ]
     },
     "execution_count": 8,
     "metadata": {},
     "output_type": "execute_result"
    }
   ],
   "source": [
    "df.isnull().sum()"
   ]
  },
  {
   "cell_type": "markdown",
   "id": "bd2388a1",
   "metadata": {},
   "source": [
    "There are a lot of null values prsent in the dataframe"
   ]
  },
  {
   "cell_type": "markdown",
   "id": "5709e649",
   "metadata": {},
   "source": [
    "estimated_generation_gwh,other_fuel1,other_fuel2,other_fuel3,wepp_id has most of data as NaN.Hence imputing them will not help the model perform well so we need to drop these columns."
   ]
  },
  {
   "cell_type": "code",
   "execution_count": 11,
   "id": "30aedbfe",
   "metadata": {},
   "outputs": [],
   "source": [
    "df.drop(['estimated_generation_gwh','wepp_id','other_fuel3','other_fuel1','other_fuel2'],axis=1,inplace=True)\n"
   ]
  },
  {
   "cell_type": "code",
   "execution_count": 12,
   "id": "980a50c9",
   "metadata": {},
   "outputs": [
    {
     "data": {
      "text/plain": [
       "(908, 20)"
      ]
     },
     "execution_count": 12,
     "metadata": {},
     "output_type": "execute_result"
    }
   ],
   "source": [
    "df.shape"
   ]
  },
  {
   "cell_type": "code",
   "execution_count": 14,
   "id": "3df7c4a8",
   "metadata": {},
   "outputs": [
    {
     "data": {
      "text/plain": [
       "Index(['country', 'country_long', 'name', 'gppd_idnr', 'capacity_mw',\n",
       "       'latitude', 'longitude', 'primary_fuel', 'commissioning_year', 'owner',\n",
       "       'source', 'url', 'geolocation_source', 'year_of_capacity_data',\n",
       "       'generation_gwh_2013', 'generation_gwh_2014', 'generation_gwh_2015',\n",
       "       'generation_gwh_2016', 'generation_gwh_2017', 'generation_data_source'],\n",
       "      dtype='object')"
      ]
     },
     "execution_count": 14,
     "metadata": {},
     "output_type": "execute_result"
    }
   ],
   "source": [
    "df.columns"
   ]
  },
  {
   "cell_type": "code",
   "execution_count": 15,
   "id": "a07853fc",
   "metadata": {},
   "outputs": [
    {
     "data": {
      "text/plain": [
       "<bound method DataFrame.info of     country country_long                          name   gppd_idnr  \\\n",
       "0       IND        India              ACME Solar Tower  WRI1020239   \n",
       "1       IND        India           ADITYA CEMENT WORKS  WRI1019881   \n",
       "2       IND        India      AES Saurashtra Windfarms  WRI1026669   \n",
       "3       IND        India                   AGARTALA GT  IND0000001   \n",
       "4       IND        India                  AKALTARA TPP  IND0000002   \n",
       "..      ...          ...                           ...         ...   \n",
       "903     IND        India                  YERMARUS TPP  IND0000513   \n",
       "904     IND        India  Yelesandra Solar Power Plant  WRI1026222   \n",
       "905     IND        India  Yelisirur wind power project  WRI1026776   \n",
       "906     IND        India                   ZAWAR MINES  WRI1019901   \n",
       "907     IND        India       iEnergy Theni Wind Farm  WRI1026761   \n",
       "\n",
       "     capacity_mw  latitude  longitude primary_fuel  commissioning_year  \\\n",
       "0            2.5   28.1839    73.2407        Solar              2011.0   \n",
       "1           98.0   24.7663    74.6090         Coal                 NaN   \n",
       "2           39.2   21.9038    69.3732         Wind                 NaN   \n",
       "3          135.0   23.8712    91.3602          Gas              2004.0   \n",
       "4         1800.0   21.9603    82.4091         Coal              2015.0   \n",
       "..           ...       ...        ...          ...                 ...   \n",
       "903       1600.0   16.2949    77.3568         Coal              2016.0   \n",
       "904          3.0   12.8932    78.1654        Solar                 NaN   \n",
       "905         25.5   15.2758    75.5811         Wind                 NaN   \n",
       "906         80.0   24.3500    73.7477         Coal                 NaN   \n",
       "907         16.5    9.9344    77.4768         Wind                 NaN   \n",
       "\n",
       "                                   owner  \\\n",
       "0                            Solar Paces   \n",
       "1                   Ultratech Cement ltd   \n",
       "2                                    AES   \n",
       "3                                    NaN   \n",
       "4                                    NaN   \n",
       "..                                   ...   \n",
       "903                                  NaN   \n",
       "904  Karnataka Power Corporation Limited   \n",
       "905                                  NaN   \n",
       "906                   Hindustan Zinc ltd   \n",
       "907                   iEnergy Wind Farms   \n",
       "\n",
       "                                   source  \\\n",
       "0    National Renewable Energy Laboratory   \n",
       "1                    Ultratech Cement ltd   \n",
       "2                                     CDM   \n",
       "3           Central Electricity Authority   \n",
       "4           Central Electricity Authority   \n",
       "..                                    ...   \n",
       "903         Central Electricity Authority   \n",
       "904   Karnataka Power Corporation Limited   \n",
       "905                                   CDM   \n",
       "906                    Hindustan Zinc ltd   \n",
       "907                                   CDM   \n",
       "\n",
       "                                                   url  \\\n",
       "0    http://www.nrel.gov/csp/solarpaces/project_det...   \n",
       "1                      http://www.ultratechcement.com/   \n",
       "2    https://cdm.unfccc.int/Projects/DB/DNV-CUK1328...   \n",
       "3                               http://www.cea.nic.in/   \n",
       "4                               http://www.cea.nic.in/   \n",
       "..                                                 ...   \n",
       "903                             http://www.cea.nic.in/   \n",
       "904                          http://karnatakapower.com   \n",
       "905  https://cdm.unfccc.int/Projects/DB/TUEV-RHEIN1...   \n",
       "906                           http://www.hzlindia.com/   \n",
       "907  https://cdm.unfccc.int/Projects/DB/RWTUV134503...   \n",
       "\n",
       "                       geolocation_source  year_of_capacity_data  \\\n",
       "0    National Renewable Energy Laboratory                    NaN   \n",
       "1                                     WRI                    NaN   \n",
       "2                                     WRI                    NaN   \n",
       "3                                     WRI                 2018.0   \n",
       "4                                     WRI                 2018.0   \n",
       "..                                    ...                    ...   \n",
       "903                                   WRI                 2018.0   \n",
       "904                        Industry About                    NaN   \n",
       "905                                   WRI                    NaN   \n",
       "906                                   WRI                    NaN   \n",
       "907                                   WRI                    NaN   \n",
       "\n",
       "     generation_gwh_2013  generation_gwh_2014  generation_gwh_2015  \\\n",
       "0                    NaN                  NaN                  NaN   \n",
       "1                    NaN                  NaN                  NaN   \n",
       "2                    NaN                  NaN                  NaN   \n",
       "3             631.777928           617.789264           843.747000   \n",
       "4            1668.290000          3035.550000          5916.370000   \n",
       "..                   ...                  ...                  ...   \n",
       "903                  NaN                  NaN             0.994875   \n",
       "904                  NaN                  NaN                  NaN   \n",
       "905                  NaN                  NaN                  NaN   \n",
       "906                  NaN                  NaN                  NaN   \n",
       "907                  NaN                  NaN                  NaN   \n",
       "\n",
       "     generation_gwh_2016  generation_gwh_2017         generation_data_source  \n",
       "0                    NaN                  NaN                            NaN  \n",
       "1                    NaN                  NaN                            NaN  \n",
       "2                    NaN                  NaN                            NaN  \n",
       "3             886.004428           663.774500  Central Electricity Authority  \n",
       "4            6243.000000          5385.579736  Central Electricity Authority  \n",
       "..                   ...                  ...                            ...  \n",
       "903           233.596650           865.400000  Central Electricity Authority  \n",
       "904                  NaN                  NaN                            NaN  \n",
       "905                  NaN                  NaN                            NaN  \n",
       "906                  NaN                  NaN                            NaN  \n",
       "907                  NaN                  NaN                            NaN  \n",
       "\n",
       "[908 rows x 20 columns]>"
      ]
     },
     "execution_count": 15,
     "metadata": {},
     "output_type": "execute_result"
    }
   ],
   "source": [
    "df.info"
   ]
  },
  {
   "cell_type": "code",
   "execution_count": 16,
   "id": "9c0470f0",
   "metadata": {},
   "outputs": [
    {
     "data": {
      "text/plain": [
       "<AxesSubplot:xlabel='capacity_mw', ylabel='generation_data_source'>"
      ]
     },
     "execution_count": 16,
     "metadata": {},
     "output_type": "execute_result"
    },
    {
     "data": {
      "image/png": "[encoded data removed]",
      "text/plain": [
       "<Figure size 576x288 with 1 Axes>"
      ]
     },
     "metadata": {
      "needs_background": "light"
     },
     "output_type": "display_data"
    }
   ],
   "source": [
    "plt.figure(figsize=(8,4))\n",
    "sns.scatterplot(x='capacity_mw',y='generation_data_source',data=df)"
   ]
  },
  {
   "cell_type": "markdown",
   "id": "dedccb02",
   "metadata": {},
   "source": [
    "central electricity authority and NaN are the only type of generation_data_source so we can drop it as it wont help in predicting capacity_mw."
   ]
  },
  {
   "cell_type": "code",
   "execution_count": 17,
   "id": "7984401a",
   "metadata": {},
   "outputs": [
    {
     "data": {
      "text/plain": [
       "array([nan, 'Central Electricity Authority'], dtype=object)"
      ]
     },
     "execution_count": 17,
     "metadata": {},
     "output_type": "execute_result"
    }
   ],
   "source": [
    "df.generation_data_source.unique()"
   ]
  },
  {
   "cell_type": "markdown",
   "id": "5cd02d21",
   "metadata": {},
   "source": [
    "Dropping the columns which are not related for prediction.i.e. gppd_idnr,owner,generation_data_source"
   ]
  },
  {
   "cell_type": "code",
   "execution_count": 18,
   "id": "09b3dfa1",
   "metadata": {},
   "outputs": [],
   "source": [
    "df.drop(['gppd_idnr','owner','generation_data_source'],axis=1,inplace=True)"
   ]
  },
  {
   "cell_type": "code",
   "execution_count": 19,
   "id": "5853716e",
   "metadata": {},
   "outputs": [
    {
     "data": {
      "text/plain": [
       "1"
      ]
     },
     "execution_count": 19,
     "metadata": {},
     "output_type": "execute_result"
    }
   ],
   "source": [
    "df['year_of_capacity_data'].nunique()"
   ]
  },
  {
   "cell_type": "markdown",
   "id": "81d9d3a4",
   "metadata": {},
   "source": [
    "also removing column 'year_of_capacity_data' because it is having one unique value across all the records."
   ]
  },
  {
   "cell_type": "code",
   "execution_count": 20,
   "id": "803bbc4a",
   "metadata": {},
   "outputs": [],
   "source": [
    "# dropping 'year_of_capacity_data' column\n",
    "df.drop('year_of_capacity_data',axis=1,inplace=True)"
   ]
  },
  {
   "cell_type": "code",
   "execution_count": 21,
   "id": "ee6f36bc",
   "metadata": {},
   "outputs": [
    {
     "data": {
      "text/plain": [
       "908"
      ]
     },
     "execution_count": 21,
     "metadata": {},
     "output_type": "execute_result"
    }
   ],
   "source": [
    "df['name'].nunique()"
   ]
  },
  {
   "cell_type": "markdown",
   "id": "d4eed361",
   "metadata": {},
   "source": [
    "also dropping name column and url columns as there is no use of it."
   ]
  },
  {
   "cell_type": "code",
   "execution_count": 22,
   "id": "183df1f3",
   "metadata": {},
   "outputs": [],
   "source": [
    "df.drop(['name','url'],axis=1,inplace=True)"
   ]
  },
  {
   "cell_type": "code",
   "execution_count": 23,
   "id": "081bf83c",
   "metadata": {},
   "outputs": [
    {
     "data": {
      "text/plain": [
       "array(['National Renewable Energy Laboratory', 'WRI', nan,\n",
       "       'Industry About'], dtype=object)"
      ]
     },
     "execution_count": 23,
     "metadata": {},
     "output_type": "execute_result"
    }
   ],
   "source": [
    "df['geolocation_source'].unique()"
   ]
  },
  {
   "cell_type": "code",
   "execution_count": 24,
   "id": "5cbbe8a8",
   "metadata": {},
   "outputs": [],
   "source": [
    "# filling geolocation_source with mode because category data\n",
    "df['geolocation_source'].fillna(df['geolocation_source'].mode()[0], inplace=True)"
   ]
  },
  {
   "cell_type": "code",
   "execution_count": 25,
   "id": "1ed13aef",
   "metadata": {},
   "outputs": [
    {
     "data": {
      "text/plain": [
       "'WRI'"
      ]
     },
     "execution_count": 25,
     "metadata": {},
     "output_type": "execute_result"
    }
   ],
   "source": [
    "df['geolocation_source'].mode()[0]"
   ]
  },
  {
   "cell_type": "code",
   "execution_count": 26,
   "id": "7625beea",
   "metadata": {},
   "outputs": [],
   "source": [
    "# filling null values with median in numerical columns\n",
    "df.fillna(df.median(), inplace=True)"
   ]
  },
  {
   "cell_type": "code",
   "execution_count": 27,
   "id": "3e2a75a8",
   "metadata": {},
   "outputs": [
    {
     "data": {
      "text/plain": [
       "capacity_mw              60.000000\n",
       "latitude                 21.778300\n",
       "longitude                76.719250\n",
       "commissioning_year     2000.000000\n",
       "generation_gwh_2013     797.063475\n",
       "generation_gwh_2014     805.760000\n",
       "generation_gwh_2015     701.027250\n",
       "generation_gwh_2016     716.728350\n",
       "generation_gwh_2017     807.601700\n",
       "dtype: float64"
      ]
     },
     "execution_count": 27,
     "metadata": {},
     "output_type": "execute_result"
    }
   ],
   "source": [
    "df.median()"
   ]
  },
  {
   "cell_type": "markdown",
   "id": "a11c5b85",
   "metadata": {},
   "source": [
    "dropping the 'country' and 'country_long' column as it has only one variant for all records"
   ]
  },
  {
   "cell_type": "code",
   "execution_count": 28,
   "id": "e86ce338",
   "metadata": {},
   "outputs": [],
   "source": [
    "df.drop(['country','country_long'],axis=1,inplace=True)"
   ]
  },
  {
   "cell_type": "code",
   "execution_count": 29,
   "id": "65be890d",
   "metadata": {},
   "outputs": [
    {
     "data": {
      "text/html": [
       "<div>\n",
       "<style scoped>\n",
       "    .dataframe tbody tr th:only-of-type {\n",
       "        vertical-align: middle;\n",
       "    }\n",
       "\n",
       "    .dataframe tbody tr th {\n",
       "        vertical-align: top;\n",
       "    }\n",
       "\n",
       "    .dataframe thead th {\n",
       "        text-align: right;\n",
       "    }\n",
       "</style>\n",
       "<table border=\"1\" class=\"dataframe\">\n",
       "  <thead>\n",
       "    <tr style=\"text-align: right;\">\n",
       "      <th></th>\n",
       "      <th>capacity_mw</th>\n",
       "      <th>latitude</th>\n",
       "      <th>longitude</th>\n",
       "      <th>primary_fuel</th>\n",
       "      <th>commissioning_year</th>\n",
       "      <th>source</th>\n",
       "      <th>geolocation_source</th>\n",
       "      <th>generation_gwh_2013</th>\n",
       "      <th>generation_gwh_2014</th>\n",
       "      <th>generation_gwh_2015</th>\n",
       "      <th>generation_gwh_2016</th>\n",
       "      <th>generation_gwh_2017</th>\n",
       "    </tr>\n",
       "  </thead>\n",
       "  <tbody>\n",
       "    <tr>\n",
       "      <th>0</th>\n",
       "      <td>2.5</td>\n",
       "      <td>28.1839</td>\n",
       "      <td>73.2407</td>\n",
       "      <td>Solar</td>\n",
       "      <td>2011.0</td>\n",
       "      <td>National Renewable Energy Laboratory</td>\n",
       "      <td>National Renewable Energy Laboratory</td>\n",
       "      <td>797.063475</td>\n",
       "      <td>805.760000</td>\n",
       "      <td>701.027250</td>\n",
       "      <td>716.728350</td>\n",
       "      <td>807.601700</td>\n",
       "    </tr>\n",
       "    <tr>\n",
       "      <th>1</th>\n",
       "      <td>98.0</td>\n",
       "      <td>24.7663</td>\n",
       "      <td>74.6090</td>\n",
       "      <td>Coal</td>\n",
       "      <td>2000.0</td>\n",
       "      <td>Ultratech Cement ltd</td>\n",
       "      <td>WRI</td>\n",
       "      <td>797.063475</td>\n",
       "      <td>805.760000</td>\n",
       "      <td>701.027250</td>\n",
       "      <td>716.728350</td>\n",
       "      <td>807.601700</td>\n",
       "    </tr>\n",
       "    <tr>\n",
       "      <th>2</th>\n",
       "      <td>39.2</td>\n",
       "      <td>21.9038</td>\n",
       "      <td>69.3732</td>\n",
       "      <td>Wind</td>\n",
       "      <td>2000.0</td>\n",
       "      <td>CDM</td>\n",
       "      <td>WRI</td>\n",
       "      <td>797.063475</td>\n",
       "      <td>805.760000</td>\n",
       "      <td>701.027250</td>\n",
       "      <td>716.728350</td>\n",
       "      <td>807.601700</td>\n",
       "    </tr>\n",
       "    <tr>\n",
       "      <th>3</th>\n",
       "      <td>135.0</td>\n",
       "      <td>23.8712</td>\n",
       "      <td>91.3602</td>\n",
       "      <td>Gas</td>\n",
       "      <td>2004.0</td>\n",
       "      <td>Central Electricity Authority</td>\n",
       "      <td>WRI</td>\n",
       "      <td>631.777928</td>\n",
       "      <td>617.789264</td>\n",
       "      <td>843.747000</td>\n",
       "      <td>886.004428</td>\n",
       "      <td>663.774500</td>\n",
       "    </tr>\n",
       "    <tr>\n",
       "      <th>4</th>\n",
       "      <td>1800.0</td>\n",
       "      <td>21.9603</td>\n",
       "      <td>82.4091</td>\n",
       "      <td>Coal</td>\n",
       "      <td>2015.0</td>\n",
       "      <td>Central Electricity Authority</td>\n",
       "      <td>WRI</td>\n",
       "      <td>1668.290000</td>\n",
       "      <td>3035.550000</td>\n",
       "      <td>5916.370000</td>\n",
       "      <td>6243.000000</td>\n",
       "      <td>5385.579736</td>\n",
       "    </tr>\n",
       "    <tr>\n",
       "      <th>...</th>\n",
       "      <td>...</td>\n",
       "      <td>...</td>\n",
       "      <td>...</td>\n",
       "      <td>...</td>\n",
       "      <td>...</td>\n",
       "      <td>...</td>\n",
       "      <td>...</td>\n",
       "      <td>...</td>\n",
       "      <td>...</td>\n",
       "      <td>...</td>\n",
       "      <td>...</td>\n",
       "      <td>...</td>\n",
       "    </tr>\n",
       "    <tr>\n",
       "      <th>903</th>\n",
       "      <td>1600.0</td>\n",
       "      <td>16.2949</td>\n",
       "      <td>77.3568</td>\n",
       "      <td>Coal</td>\n",
       "      <td>2016.0</td>\n",
       "      <td>Central Electricity Authority</td>\n",
       "      <td>WRI</td>\n",
       "      <td>797.063475</td>\n",
       "      <td>805.760000</td>\n",
       "      <td>0.994875</td>\n",
       "      <td>233.596650</td>\n",
       "      <td>865.400000</td>\n",
       "    </tr>\n",
       "    <tr>\n",
       "      <th>904</th>\n",
       "      <td>3.0</td>\n",
       "      <td>12.8932</td>\n",
       "      <td>78.1654</td>\n",
       "      <td>Solar</td>\n",
       "      <td>2000.0</td>\n",
       "      <td>Karnataka Power Corporation Limited</td>\n",
       "      <td>Industry About</td>\n",
       "      <td>797.063475</td>\n",
       "      <td>805.760000</td>\n",
       "      <td>701.027250</td>\n",
       "      <td>716.728350</td>\n",
       "      <td>807.601700</td>\n",
       "    </tr>\n",
       "    <tr>\n",
       "      <th>905</th>\n",
       "      <td>25.5</td>\n",
       "      <td>15.2758</td>\n",
       "      <td>75.5811</td>\n",
       "      <td>Wind</td>\n",
       "      <td>2000.0</td>\n",
       "      <td>CDM</td>\n",
       "      <td>WRI</td>\n",
       "      <td>797.063475</td>\n",
       "      <td>805.760000</td>\n",
       "      <td>701.027250</td>\n",
       "      <td>716.728350</td>\n",
       "      <td>807.601700</td>\n",
       "    </tr>\n",
       "    <tr>\n",
       "      <th>906</th>\n",
       "      <td>80.0</td>\n",
       "      <td>24.3500</td>\n",
       "      <td>73.7477</td>\n",
       "      <td>Coal</td>\n",
       "      <td>2000.0</td>\n",
       "      <td>Hindustan Zinc ltd</td>\n",
       "      <td>WRI</td>\n",
       "      <td>797.063475</td>\n",
       "      <td>805.760000</td>\n",
       "      <td>701.027250</td>\n",
       "      <td>716.728350</td>\n",
       "      <td>807.601700</td>\n",
       "    </tr>\n",
       "    <tr>\n",
       "      <th>907</th>\n",
       "      <td>16.5</td>\n",
       "      <td>9.9344</td>\n",
       "      <td>77.4768</td>\n",
       "      <td>Wind</td>\n",
       "      <td>2000.0</td>\n",
       "      <td>CDM</td>\n",
       "      <td>WRI</td>\n",
       "      <td>797.063475</td>\n",
       "      <td>805.760000</td>\n",
       "      <td>701.027250</td>\n",
       "      <td>716.728350</td>\n",
       "      <td>807.601700</td>\n",
       "    </tr>\n",
       "  </tbody>\n",
       "</table>\n",
       "<p>908 rows × 12 columns</p>\n",
       "</div>"
      ],
      "text/plain": [
       "     capacity_mw  latitude  longitude primary_fuel  commissioning_year  \\\n",
       "0            2.5   28.1839    73.2407        Solar              2011.0   \n",
       "1           98.0   24.7663    74.6090         Coal              2000.0   \n",
       "2           39.2   21.9038    69.3732         Wind              2000.0   \n",
       "3          135.0   23.8712    91.3602          Gas              2004.0   \n",
       "4         1800.0   21.9603    82.4091         Coal              2015.0   \n",
       "..           ...       ...        ...          ...                 ...   \n",
       "903       1600.0   16.2949    77.3568         Coal              2016.0   \n",
       "904          3.0   12.8932    78.1654        Solar              2000.0   \n",
       "905         25.5   15.2758    75.5811         Wind              2000.0   \n",
       "906         80.0   24.3500    73.7477         Coal              2000.0   \n",
       "907         16.5    9.9344    77.4768         Wind              2000.0   \n",
       "\n",
       "                                   source  \\\n",
       "0    National Renewable Energy Laboratory   \n",
       "1                    Ultratech Cement ltd   \n",
       "2                                     CDM   \n",
       "3           Central Electricity Authority   \n",
       "4           Central Electricity Authority   \n",
       "..                                    ...   \n",
       "903         Central Electricity Authority   \n",
       "904   Karnataka Power Corporation Limited   \n",
       "905                                   CDM   \n",
       "906                    Hindustan Zinc ltd   \n",
       "907                                   CDM   \n",
       "\n",
       "                       geolocation_source  generation_gwh_2013  \\\n",
       "0    National Renewable Energy Laboratory           797.063475   \n",
       "1                                     WRI           797.063475   \n",
       "2                                     WRI           797.063475   \n",
       "3                                     WRI           631.777928   \n",
       "4                                     WRI          1668.290000   \n",
       "..                                    ...                  ...   \n",
       "903                                   WRI           797.063475   \n",
       "904                        Industry About           797.063475   \n",
       "905                                   WRI           797.063475   \n",
       "906                                   WRI           797.063475   \n",
       "907                                   WRI           797.063475   \n",
       "\n",
       "     generation_gwh_2014  generation_gwh_2015  generation_gwh_2016  \\\n",
       "0             805.760000           701.027250           716.728350   \n",
       "1             805.760000           701.027250           716.728350   \n",
       "2             805.760000           701.027250           716.728350   \n",
       "3             617.789264           843.747000           886.004428   \n",
       "4            3035.550000          5916.370000          6243.000000   \n",
       "..                   ...                  ...                  ...   \n",
       "903           805.760000             0.994875           233.596650   \n",
       "904           805.760000           701.027250           716.728350   \n",
       "905           805.760000           701.027250           716.728350   \n",
       "906           805.760000           701.027250           716.728350   \n",
       "907           805.760000           701.027250           716.728350   \n",
       "\n",
       "     generation_gwh_2017  \n",
       "0             807.601700  \n",
       "1             807.601700  \n",
       "2             807.601700  \n",
       "3             663.774500  \n",
       "4            5385.579736  \n",
       "..                   ...  \n",
       "903           865.400000  \n",
       "904           807.601700  \n",
       "905           807.601700  \n",
       "906           807.601700  \n",
       "907           807.601700  \n",
       "\n",
       "[908 rows x 12 columns]"
      ]
     },
     "execution_count": 29,
     "metadata": {},
     "output_type": "execute_result"
    }
   ],
   "source": [
    "df"
   ]
  },
  {
   "cell_type": "code",
   "execution_count": 30,
   "id": "ad126c43",
   "metadata": {},
   "outputs": [
    {
     "data": {
      "text/plain": [
       "capacity_mw            0\n",
       "latitude               0\n",
       "longitude              0\n",
       "primary_fuel           0\n",
       "commissioning_year     0\n",
       "source                 0\n",
       "geolocation_source     0\n",
       "generation_gwh_2013    0\n",
       "generation_gwh_2014    0\n",
       "generation_gwh_2015    0\n",
       "generation_gwh_2016    0\n",
       "generation_gwh_2017    0\n",
       "dtype: int64"
      ]
     },
     "execution_count": 30,
     "metadata": {},
     "output_type": "execute_result"
    }
   ],
   "source": [
    "df.isnull().sum()"
   ]
  },
  {
   "cell_type": "code",
   "execution_count": 31,
   "id": "2a1c0433",
   "metadata": {},
   "outputs": [
    {
     "data": {
      "text/plain": [
       "array(['National Renewable Energy Laboratory', 'Ultratech Cement ltd',\n",
       "       'CDM', 'Central Electricity Authority', 'Hindustan Pvt lt',\n",
       "       'Dr Ssk ltd', 'Ashok Ssk ltd', 'Shree Sugars ltd', 'Navbharat',\n",
       "       'Meil.In/P', 'Lancosola', 'Indian Power ltd',\n",
       "       'Ballarpur Industries ltd', 'Jk Cement ltd', 'India Ltd icl)',\n",
       "       'Ideal Projects ltd', 'Ugar Works ltd', 'Vishwanath Sugars ltd',\n",
       "       'Hothur Pvt ltd', 'Janki Corp ltd', 'Mysore Mills ltd',\n",
       "       'Sunflag Co ltd', 'Varam Pvt ltd', 'Sangam Spinners ltd',\n",
       "       'Bharat Refinery ltd', 'Binani Industries ltd',\n",
       "       'Indo Synthetics ltd', 'Ambed K Sugar', 'AES Winfra', 'Sembcorp',\n",
       "       'Punj Lloyd', 'Hiraco India', 'Moserbaer Solar', 'Lingandwi',\n",
       "       'LEPL', 'CleanEnerg teLeanenergy', 'Adani Power Limite r Er',\n",
       "       'Madhav Group', 'Power Private edM/Pdf', 'Acc Acc ltd',\n",
       "       'Birla Corp ltd', 'Hindustan Zinc ltd', 'Gupta Ltd gepl)',\n",
       "       'Manikghar Cement co', 'Core Fuels ltd',\n",
       "       'Maharashtra State Power Generation Co Ltd (MAHAGENCO)',\n",
       "       'Solar for India', 'P3 Green', 'Reliance Power Ltd', 'Bmm Pvt ltd',\n",
       "       'Daund Sugar ltd', 'Davangere Co ltd', 'Mukand Mukand ltd',\n",
       "       'Shri Ssk ltd', 'Jsw Steel ltd', 'Shamanur Sugars ltd',\n",
       "       'Jai Industries ltd', 'National Thermal Power Corporation (NTPC)',\n",
       "       'West Coast Paper Mills Ltd.', 'Ujaas Energy Limited',\n",
       "       'Est vt Arind', 'Aravali Infrapower Private Limited (AIPL)',\n",
       "       'Sovox Renewables Private Limited', 'Chambal & chem',\n",
       "       'Lloyds Industries ltd', 'Grace Industries ltd',\n",
       "       'Orient Cement ltd', 'SunBorne Energy Gujarat One Private Limited',\n",
       "       'Pandit Deendayal Petrolium University (PDPU)',\n",
       "       'Ministry of New and Renewable Energy',\n",
       "       'Rajasthan Renewable Energy Corporation Limited (RREC)', 'Solaer',\n",
       "       'Amrit Energy Private Limited', 'Jawahar Ssk ltd', 'Purna Ssk ltd',\n",
       "       'Rk Pvt ltd', 'Essel MP Energy Limited',\n",
       "       'Harsha Engineers Limited', 'Karnataka Power Corporation Limited',\n",
       "       'Godawari Energy ltd', 'Jaypee Ltd jccl)',\n",
       "       'Sunkon Energy Private Limited',\n",
       "       'West Bengal Energy Development Corporation Limited (WBEDCL)',\n",
       "       'Chettinad Corp ltd', 'Kjs Ahluwalia group', 'Ym Ssk ltd',\n",
       "       'Maral Overseas ltd', 'Gm Energy ltd', 'Uttam Steels ltd',\n",
       "       'Sri Sugars ltd', 'Hemarus Technologies ltd', 'Shri Vedganga ssk',\n",
       "       'Kumbhi Ssk ltd', 'Bannari Sugars ltd', 'Nsl Sugars ltd',\n",
       "       'Hare Pvt ltd', 'Dcm & chem', 'Gem Sugars ltd',\n",
       "       'Azure Power (Rajasthan) Private Limited', 'Real Estate e',\n",
       "       'Sepset Constructio te', 'Gujarat Urja Vikas Nigam Limited',\n",
       "       'Firestone Trading Private Limited', 'Solairedirect',\n",
       "       'ACME Solar Energy', 'Unity Power Limite r World',\n",
       "       'Urja India edEnewables', 'Infratech e M/Pdf', 'S Limited Rsolar',\n",
       "       'IAEA', 'Tata Co ltd', 'Lokmangal Lokmangal group',\n",
       "       'Powers Private', 'Clean Energy edOjects.Com', 'PEDA',\n",
       "       'Mahatma Power ltd', 'Bharat Corp ltd', 'Maihar Cement ltd',\n",
       "       'Mangalore & petrochem', 'Manglam Cement ltd',\n",
       "       'Manikgarh Manikgarh cement', 'Ambuja Cements ltd',\n",
       "       'Rswm Rswm ltd', 'Greta Energy ltd', 'Ongc Gas corp',\n",
       "       'Technocraft Technocraft group', 'Tata Power Solar',\n",
       "       'Grasim Industries ltd', 'Reliance Petrochemicals', 'Gmt Pvt ltd',\n",
       "       'Purti Sugar ltd', 'Topworth Metals ltd', 'Orient Power ltd',\n",
       "       'Rattanindia Power ltd', 'National And paper',\n",
       "       'Nitin Spinners ltd', 'EMC Limited', 'Hira Group',\n",
       "       'Precision Technik Private Limited', 'Gangakhed Energy ltd',\n",
       "       'Sinarmas Paper ltd',\n",
       "       'Gujarat Mineral Development Corporation Limited (GMDC)',\n",
       "       'Coal Mi ICM', 'Se Pvt Rsolar', 'Urja Private edEr',\n",
       "       'Surana Industries ltd', 'Grasim Cement ltd', 'Spr Pvt ltd',\n",
       "       'Natural Alliend indust', 'Shree Cement ltd',\n",
       "       'Astonfield Management Limited',\n",
       "       'Welspun Solar Punjab Private Limited',\n",
       "       'Taxus Infrastructure and Power Projects Pvt Ltd',\n",
       "       'Indian Oil Corporation (IOC)', 'Sterling and Wilson',\n",
       "       'SEI Solar Energy Private Limited',\n",
       "       'Welspun Solar AP Private Limited', 'Sahakar Shiromani vasantrao',\n",
       "       'Godavari Mills ltd', 'Kranti Ssk ltd', 'Sinewave Pvt ltd',\n",
       "       'Vasantdada Ssk ltd', 'Shri Hiranyakeshi ssk',\n",
       "       'Sahakarmaharshi Bhausaheb thor', 'Datta Ssk ltd',\n",
       "       'Shri Malaprabha ssk', 'Dcm Industries ltd', 'Mula Ssk ltd',\n",
       "       'Aftaab Solar Private Limited (ASPL)',\n",
       "       'Raajratna Energy Holdings Private Limited (REHPL)',\n",
       "       'Mono Steel (India) Ltd', 'Jain Solar',\n",
       "       'Backbone Enterprises Limited',\n",
       "       'S J Green Park Energy Private Limited',\n",
       "       'Konark Gujarat Private Limited',\n",
       "       'Moser Baer Clean Energy Limited (MBCEL)',\n",
       "       'Clover Solar Private Limited (CSPL)', 'Dhariwal Pvt ltd',\n",
       "       'Mukesh Gupta group', 'Rashtriya & fert', 'Nocil Nocil rubber',\n",
       "       'Tata BP Solar India Limited', 'Moser Baer Solar Limited (MBSL)',\n",
       "       'Vardham Vardham group', 'Kesoram Industries ltd',\n",
       "       'National Ltd nfl)', 'Vikram Vikram cement',\n",
       "       'Gujarat Industries Power Company Limited (GIPCL)',\n",
       "       'ACME Cleantech Solutions Private Limited',\n",
       "       'Videocon Industries Limited', 'Yashwantrao Krishna ssk'],\n",
       "      dtype=object)"
      ]
     },
     "execution_count": 31,
     "metadata": {},
     "output_type": "execute_result"
    }
   ],
   "source": [
    "df['source'].unique()"
   ]
  },
  {
   "cell_type": "code",
   "execution_count": 32,
   "id": "65a61f6b",
   "metadata": {},
   "outputs": [
    {
     "data": {
      "text/plain": [
       "3"
      ]
     },
     "execution_count": 32,
     "metadata": {},
     "output_type": "execute_result"
    }
   ],
   "source": [
    "df['geolocation_source'].nunique()"
   ]
  },
  {
   "cell_type": "code",
   "execution_count": 33,
   "id": "fda10377",
   "metadata": {},
   "outputs": [
    {
     "data": {
      "text/plain": [
       "array(['National Renewable Energy Laboratory', 'WRI', 'Industry About'],\n",
       "      dtype=object)"
      ]
     },
     "execution_count": 33,
     "metadata": {},
     "output_type": "execute_result"
    }
   ],
   "source": [
    "df['geolocation_source'].unique()"
   ]
  },
  {
   "cell_type": "code",
   "execution_count": 34,
   "id": "f9ee4f01",
   "metadata": {},
   "outputs": [
    {
     "data": {
      "text/plain": [
       "WRI                                     785\n",
       "Industry About                          119\n",
       "National Renewable Energy Laboratory      4\n",
       "Name: geolocation_source, dtype: int64"
      ]
     },
     "execution_count": 34,
     "metadata": {},
     "output_type": "execute_result"
    }
   ],
   "source": [
    "df['geolocation_source'].value_counts()"
   ]
  },
  {
   "cell_type": "code",
   "execution_count": 40,
   "id": "3b4ef6ac",
   "metadata": {},
   "outputs": [
    {
     "name": "stdout",
     "output_type": "stream",
     "text": [
      "<class 'pandas.core.frame.DataFrame'>\n",
      "RangeIndex: 908 entries, 0 to 907\n",
      "Data columns (total 12 columns):\n",
      " #   Column               Non-Null Count  Dtype  \n",
      "---  ------               --------------  -----  \n",
      " 0   capacity_mw          908 non-null    float64\n",
      " 1   latitude             908 non-null    float64\n",
      " 2   longitude            908 non-null    float64\n",
      " 3   primary_fuel         908 non-null    object \n",
      " 4   commissioning_year   908 non-null    float64\n",
      " 5   source               908 non-null    object \n",
      " 6   geolocation_source   908 non-null    object \n",
      " 7   generation_gwh_2013  908 non-null    float64\n",
      " 8   generation_gwh_2014  908 non-null    float64\n",
      " 9   generation_gwh_2015  908 non-null    float64\n",
      " 10  generation_gwh_2016  908 non-null    float64\n",
      " 11  generation_gwh_2017  908 non-null    float64\n",
      "dtypes: float64(9), object(3)\n",
      "memory usage: 85.2+ KB\n"
     ]
    }
   ],
   "source": [
    "df.info()"
   ]
  },
  {
   "cell_type": "code",
   "execution_count": 41,
   "id": "7e0210e8",
   "metadata": {},
   "outputs": [
    {
     "data": {
      "text/plain": [
       "Coal       259\n",
       "Hydro      250\n",
       "Solar      127\n",
       "Wind       123\n",
       "Gas         69\n",
       "Biomass     50\n",
       "Oil         21\n",
       "Nuclear      9\n",
       "Name: primary_fuel, dtype: int64"
      ]
     },
     "execution_count": 41,
     "metadata": {},
     "output_type": "execute_result"
    }
   ],
   "source": [
    "df['primary_fuel'].value_counts()"
   ]
  },
  {
   "cell_type": "code",
   "execution_count": 42,
   "id": "8f5a9e3c",
   "metadata": {},
   "outputs": [
    {
     "data": {
      "text/plain": [
       "<AxesSubplot:xlabel='primary_fuel', ylabel='count'>"
      ]
     },
     "execution_count": 42,
     "metadata": {},
     "output_type": "execute_result"
    },
    {
     "data": {
      "image/png": "[encoded data removed]",
      "text/plain": [
       "<Figure size 432x288 with 1 Axes>"
      ]
     },
     "metadata": {},
     "output_type": "display_data"
    }
   ],
   "source": [
    "sns.set_style(\"whitegrid\")\n",
    "sns.countplot(x=\"primary_fuel\", data=df)"
   ]
  },
  {
   "cell_type": "code",
   "execution_count": 43,
   "id": "6725ae69",
   "metadata": {},
   "outputs": [
    {
     "data": {
      "text/plain": [
       "<AxesSubplot:>"
      ]
     },
     "execution_count": 43,
     "metadata": {},
     "output_type": "execute_result"
    },
    {
     "data": {
      "image/png": "[encoded data removed]",
      "text/plain": [
       "<Figure size 432x288 with 2 Axes>"
      ]
     },
     "metadata": {},
     "output_type": "display_data"
    }
   ],
   "source": [
    "sns.heatmap(df.corr(),annot=True)"
   ]
  },
  {
   "cell_type": "markdown",
   "id": "9ee384e6",
   "metadata": {},
   "source": [
    "Here we can notice generation_gwh_2013,2014,2015,2016,2017 are positively correlated to capacity_mw and latitude is negative correlated"
   ]
  },
  {
   "cell_type": "code",
   "execution_count": 44,
   "id": "b21faec6",
   "metadata": {},
   "outputs": [
    {
     "data": {
      "text/plain": [
       "<AxesSubplot:xlabel='primary_fuel', ylabel='generation_gwh_2013'>"
      ]
     },
     "execution_count": 44,
     "metadata": {},
     "output_type": "execute_result"
    },
    {
     "data": {
      "image/png": "[encoded data removed]",
      "text/plain": [
       "<Figure size 576x288 with 1 Axes>"
      ]
     },
     "metadata": {},
     "output_type": "display_data"
    }
   ],
   "source": [
    "plt.figure(figsize=(8,4))\n",
    "sns.scatterplot(x='primary_fuel',y='generation_gwh_2013',data=df)"
   ]
  },
  {
   "cell_type": "code",
   "execution_count": 45,
   "id": "f0fc74f5",
   "metadata": {},
   "outputs": [
    {
     "data": {
      "text/plain": [
       "<AxesSubplot:xlabel='primary_fuel', ylabel='generation_gwh_2014'>"
      ]
     },
     "execution_count": 45,
     "metadata": {},
     "output_type": "execute_result"
    },
    {
     "data": {
      "image/png": "[encoded data removed]",
      "text/plain": [
       "<Figure size 576x288 with 1 Axes>"
      ]
     },
     "metadata": {},
     "output_type": "display_data"
    }
   ],
   "source": [
    "plt.figure(figsize=(8,4))\n",
    "sns.scatterplot(x='primary_fuel',y='generation_gwh_2014',data=df)"
   ]
  },
  {
   "cell_type": "code",
   "execution_count": 46,
   "id": "5def860a",
   "metadata": {},
   "outputs": [
    {
     "data": {
      "text/plain": [
       "<AxesSubplot:xlabel='primary_fuel', ylabel='generation_gwh_2015'>"
      ]
     },
     "execution_count": 46,
     "metadata": {},
     "output_type": "execute_result"
    },
    {
     "data": {
      "image/png": "[encoded data removed]",
      "text/plain": [
       "<Figure size 576x288 with 1 Axes>"
      ]
     },
     "metadata": {},
     "output_type": "display_data"
    }
   ],
   "source": [
    "plt.figure(figsize=(8,4))\n",
    "sns.scatterplot(x='primary_fuel',y='generation_gwh_2015',data=df)"
   ]
  },
  {
   "cell_type": "code",
   "execution_count": 47,
   "id": "ffb371ea",
   "metadata": {},
   "outputs": [
    {
     "data": {
      "text/plain": [
       "<AxesSubplot:xlabel='primary_fuel', ylabel='generation_gwh_2016'>"
      ]
     },
     "execution_count": 47,
     "metadata": {},
     "output_type": "execute_result"
    },
    {
     "data": {
      "image/png": "[encoded data removed]",
      "text/plain": [
       "<Figure size 576x288 with 1 Axes>"
      ]
     },
     "metadata": {},
     "output_type": "display_data"
    }
   ],
   "source": [
    "plt.figure(figsize=(8,4))\n",
    "sns.scatterplot(x='primary_fuel',y='generation_gwh_2016',data=df)"
   ]
  },
  {
   "cell_type": "code",
   "execution_count": 48,
   "id": "81636d25",
   "metadata": {},
   "outputs": [
    {
     "data": {
      "text/plain": [
       "<AxesSubplot:xlabel='primary_fuel', ylabel='generation_gwh_2017'>"
      ]
     },
     "execution_count": 48,
     "metadata": {},
     "output_type": "execute_result"
    },
    {
     "data": {
      "image/png": "[encoded data removed]",
      "text/plain": [
       "<Figure size 576x288 with 1 Axes>"
      ]
     },
     "metadata": {},
     "output_type": "display_data"
    }
   ],
   "source": [
    "plt.figure(figsize=(8,4))\n",
    "sns.scatterplot(x='primary_fuel',y='generation_gwh_2017',data=df)"
   ]
  },
  {
   "cell_type": "markdown",
   "id": "f62bad32",
   "metadata": {},
   "source": [
    "the coal is most used fuel in between 2013 to 2014 and Nuclear,Gas and hydro on average use and Solar,Wind,Biomass,Oil was very less used as compared to the others"
   ]
  },
  {
   "cell_type": "code",
   "execution_count": 49,
   "id": "780a6c81",
   "metadata": {},
   "outputs": [
    {
     "data": {
      "text/plain": [
       "<AxesSubplot:xlabel='capacity_mw', ylabel='generation_gwh_2013'>"
      ]
     },
     "execution_count": 49,
     "metadata": {},
     "output_type": "execute_result"
    },
    {
     "data": {
      "image/png": "[encoded data removed]",
      "text/plain": [
       "<Figure size 576x288 with 1 Axes>"
      ]
     },
     "metadata": {},
     "output_type": "display_data"
    }
   ],
   "source": [
    "plt.figure(figsize=(8,4))\n",
    "sns.scatterplot(x='capacity_mw',y='generation_gwh_2013',data=df)"
   ]
  },
  {
   "cell_type": "code",
   "execution_count": 50,
   "id": "3f6fc694",
   "metadata": {},
   "outputs": [
    {
     "data": {
      "text/plain": [
       "<AxesSubplot:xlabel='capacity_mw', ylabel='generation_gwh_2014'>"
      ]
     },
     "execution_count": 50,
     "metadata": {},
     "output_type": "execute_result"
    },
    {
     "data": {
      "image/png": "[encoded data removed]",
      "text/plain": [
       "<Figure size 576x288 with 1 Axes>"
      ]
     },
     "metadata": {},
     "output_type": "display_data"
    }
   ],
   "source": [
    "plt.figure(figsize=(8,4))\n",
    "sns.scatterplot(x='capacity_mw',y='generation_gwh_2014',data=df)"
   ]
  },
  {
   "cell_type": "markdown",
   "id": "947ea55b",
   "metadata": {},
   "source": [
    "in 2014 we can also notice here as electricity generation in gigawatt-hour is increasing with increasing in the no of electricity generating capacity in megawatts in 2014"
   ]
  },
  {
   "cell_type": "code",
   "execution_count": 51,
   "id": "0d5a72c3",
   "metadata": {},
   "outputs": [
    {
     "data": {
      "text/plain": [
       "<AxesSubplot:xlabel='capacity_mw', ylabel='generation_gwh_2015'>"
      ]
     },
     "execution_count": 51,
     "metadata": {},
     "output_type": "execute_result"
    },
    {
     "data": {
      "image/png": "[encoded data removed]",
      "text/plain": [
       "<Figure size 576x288 with 1 Axes>"
      ]
     },
     "metadata": {},
     "output_type": "display_data"
    }
   ],
   "source": [
    "plt.figure(figsize=(8,4))\n",
    "sns.scatterplot(x='capacity_mw',y='generation_gwh_2015',data=df)"
   ]
  },
  {
   "cell_type": "code",
   "execution_count": 52,
   "id": "13d6ab27",
   "metadata": {},
   "outputs": [
    {
     "data": {
      "text/plain": [
       "<AxesSubplot:xlabel='capacity_mw', ylabel='generation_gwh_2016'>"
      ]
     },
     "execution_count": 52,
     "metadata": {},
     "output_type": "execute_result"
    },
    {
     "data": {
      "image/png": "[encoded data removed]",
      "text/plain": [
       "<Figure size 576x288 with 1 Axes>"
      ]
     },
     "metadata": {},
     "output_type": "display_data"
    }
   ],
   "source": [
    "plt.figure(figsize=(8,4))\n",
    "sns.scatterplot(x='capacity_mw',y='generation_gwh_2016',data=df)"
   ]
  },
  {
   "cell_type": "code",
   "execution_count": 53,
   "id": "78f502ec",
   "metadata": {},
   "outputs": [
    {
     "data": {
      "text/plain": [
       "<AxesSubplot:xlabel='capacity_mw', ylabel='generation_gwh_2017'>"
      ]
     },
     "execution_count": 53,
     "metadata": {},
     "output_type": "execute_result"
    },
    {
     "data": {
      "image/png": "[encoded data removed]",
      "text/plain": [
       "<Figure size 576x288 with 1 Axes>"
      ]
     },
     "metadata": {},
     "output_type": "display_data"
    }
   ],
   "source": [
    "plt.figure(figsize=(8,4))\n",
    "sns.scatterplot(x='capacity_mw',y='generation_gwh_2017',data=df)"
   ]
  },
  {
   "cell_type": "markdown",
   "id": "5c254bda",
   "metadata": {},
   "source": [
    "From 2013 to 2014 with increase in generation_gwh,the capacity_mw also increases"
   ]
  },
  {
   "cell_type": "code",
   "execution_count": 54,
   "id": "bc0819d8",
   "metadata": {},
   "outputs": [
    {
     "data": {
      "text/plain": [
       "<AxesSubplot:xlabel='capacity_mw', ylabel='latitude'>"
      ]
     },
     "execution_count": 54,
     "metadata": {},
     "output_type": "execute_result"
    },
    {
     "data": {
      "image/png": "[encoded data removed]",
      "text/plain": [
       "<Figure size 576x288 with 1 Axes>"
      ]
     },
     "metadata": {},
     "output_type": "display_data"
    }
   ],
   "source": [
    "plt.figure(figsize=(8,4))\n",
    "sns.scatterplot(x='capacity_mw',y='latitude',data=df)"
   ]
  },
  {
   "cell_type": "markdown",
   "id": "5c53df22",
   "metadata": {},
   "source": [
    "In high latitude value, capacity is low.With latitude between 20 and 30,we see increase in capacity."
   ]
  },
  {
   "cell_type": "code",
   "execution_count": 55,
   "id": "6dae4610",
   "metadata": {},
   "outputs": [
    {
     "data": {
      "text/plain": [
       "<AxesSubplot:xlabel='primary_fuel', ylabel='latitude'>"
      ]
     },
     "execution_count": 55,
     "metadata": {},
     "output_type": "execute_result"
    },
    {
     "data": {
      "image/png": "[encoded data removed]",
      "text/plain": [
       "<Figure size 576x288 with 1 Axes>"
      ]
     },
     "metadata": {},
     "output_type": "display_data"
    }
   ],
   "source": [
    "plt.figure(figsize=(8,4))\n",
    "sns.scatterplot(x='primary_fuel',y='latitude',data=df)"
   ]
  },
  {
   "cell_type": "markdown",
   "id": "2929220b",
   "metadata": {},
   "source": [
    "Most of the primary fuel are present under the latitude range under 35."
   ]
  },
  {
   "cell_type": "code",
   "execution_count": 56,
   "id": "b763bd2b",
   "metadata": {},
   "outputs": [
    {
     "data": {
      "text/plain": [
       "<AxesSubplot:xlabel='capacity_mw', ylabel='primary_fuel'>"
      ]
     },
     "execution_count": 56,
     "metadata": {},
     "output_type": "execute_result"
    },
    {
     "data": {
      "image/png": "[encoded data removed]",
      "text/plain": [
       "<Figure size 576x288 with 1 Axes>"
      ]
     },
     "metadata": {},
     "output_type": "display_data"
    }
   ],
   "source": [
    "plt.figure(figsize=(8,4))\n",
    "sns.scatterplot(x='capacity_mw',y='primary_fuel',data=df)"
   ]
  },
  {
   "cell_type": "markdown",
   "id": "5e93f5fb",
   "metadata": {},
   "source": [
    "coal is used for maximum electricity generation."
   ]
  },
  {
   "cell_type": "code",
   "execution_count": 57,
   "id": "7c303225",
   "metadata": {},
   "outputs": [],
   "source": [
    "from sklearn.preprocessing import LabelEncoder"
   ]
  },
  {
   "cell_type": "code",
   "execution_count": 58,
   "id": "06743de7",
   "metadata": {},
   "outputs": [],
   "source": [
    "LE = LabelEncoder()\n",
    "df['geolocation_source'] = LE.fit_transform(df['geolocation_source'])"
   ]
  },
  {
   "cell_type": "code",
   "execution_count": 59,
   "id": "b84685d3",
   "metadata": {},
   "outputs": [],
   "source": [
    "df['source'] = LE.fit_transform(df['source'])"
   ]
  },
  {
   "cell_type": "code",
   "execution_count": 60,
   "id": "3a370b57",
   "metadata": {},
   "outputs": [],
   "source": [
    "df['primary_fuel'] = LE.fit_transform(df['primary_fuel'])"
   ]
  },
  {
   "cell_type": "code",
   "execution_count": 61,
   "id": "c1f53381",
   "metadata": {},
   "outputs": [
    {
     "data": {
      "text/html": [
       "<div>\n",
       "<style scoped>\n",
       "    .dataframe tbody tr th:only-of-type {\n",
       "        vertical-align: middle;\n",
       "    }\n",
       "\n",
       "    .dataframe tbody tr th {\n",
       "        vertical-align: top;\n",
       "    }\n",
       "\n",
       "    .dataframe thead th {\n",
       "        text-align: right;\n",
       "    }\n",
       "</style>\n",
       "<table border=\"1\" class=\"dataframe\">\n",
       "  <thead>\n",
       "    <tr style=\"text-align: right;\">\n",
       "      <th></th>\n",
       "      <th>capacity_mw</th>\n",
       "      <th>latitude</th>\n",
       "      <th>longitude</th>\n",
       "      <th>primary_fuel</th>\n",
       "      <th>commissioning_year</th>\n",
       "      <th>source</th>\n",
       "      <th>geolocation_source</th>\n",
       "      <th>generation_gwh_2013</th>\n",
       "      <th>generation_gwh_2014</th>\n",
       "      <th>generation_gwh_2015</th>\n",
       "      <th>generation_gwh_2016</th>\n",
       "      <th>generation_gwh_2017</th>\n",
       "    </tr>\n",
       "  </thead>\n",
       "  <tbody>\n",
       "    <tr>\n",
       "      <th>0</th>\n",
       "      <td>2.5</td>\n",
       "      <td>28.1839</td>\n",
       "      <td>73.2407</td>\n",
       "      <td>6</td>\n",
       "      <td>2011.0</td>\n",
       "      <td>109</td>\n",
       "      <td>1</td>\n",
       "      <td>797.063475</td>\n",
       "      <td>805.760000</td>\n",
       "      <td>701.027250</td>\n",
       "      <td>716.728350</td>\n",
       "      <td>807.601700</td>\n",
       "    </tr>\n",
       "    <tr>\n",
       "      <th>1</th>\n",
       "      <td>98.0</td>\n",
       "      <td>24.7663</td>\n",
       "      <td>74.6090</td>\n",
       "      <td>1</td>\n",
       "      <td>2000.0</td>\n",
       "      <td>174</td>\n",
       "      <td>2</td>\n",
       "      <td>797.063475</td>\n",
       "      <td>805.760000</td>\n",
       "      <td>701.027250</td>\n",
       "      <td>716.728350</td>\n",
       "      <td>807.601700</td>\n",
       "    </tr>\n",
       "    <tr>\n",
       "      <th>2</th>\n",
       "      <td>39.2</td>\n",
       "      <td>21.9038</td>\n",
       "      <td>69.3732</td>\n",
       "      <td>7</td>\n",
       "      <td>2000.0</td>\n",
       "      <td>21</td>\n",
       "      <td>2</td>\n",
       "      <td>797.063475</td>\n",
       "      <td>805.760000</td>\n",
       "      <td>701.027250</td>\n",
       "      <td>716.728350</td>\n",
       "      <td>807.601700</td>\n",
       "    </tr>\n",
       "    <tr>\n",
       "      <th>3</th>\n",
       "      <td>135.0</td>\n",
       "      <td>23.8712</td>\n",
       "      <td>91.3602</td>\n",
       "      <td>2</td>\n",
       "      <td>2004.0</td>\n",
       "      <td>22</td>\n",
       "      <td>2</td>\n",
       "      <td>631.777928</td>\n",
       "      <td>617.789264</td>\n",
       "      <td>843.747000</td>\n",
       "      <td>886.004428</td>\n",
       "      <td>663.774500</td>\n",
       "    </tr>\n",
       "    <tr>\n",
       "      <th>4</th>\n",
       "      <td>1800.0</td>\n",
       "      <td>21.9603</td>\n",
       "      <td>82.4091</td>\n",
       "      <td>1</td>\n",
       "      <td>2015.0</td>\n",
       "      <td>22</td>\n",
       "      <td>2</td>\n",
       "      <td>1668.290000</td>\n",
       "      <td>3035.550000</td>\n",
       "      <td>5916.370000</td>\n",
       "      <td>6243.000000</td>\n",
       "      <td>5385.579736</td>\n",
       "    </tr>\n",
       "    <tr>\n",
       "      <th>...</th>\n",
       "      <td>...</td>\n",
       "      <td>...</td>\n",
       "      <td>...</td>\n",
       "      <td>...</td>\n",
       "      <td>...</td>\n",
       "      <td>...</td>\n",
       "      <td>...</td>\n",
       "      <td>...</td>\n",
       "      <td>...</td>\n",
       "      <td>...</td>\n",
       "      <td>...</td>\n",
       "      <td>...</td>\n",
       "    </tr>\n",
       "    <tr>\n",
       "      <th>903</th>\n",
       "      <td>1600.0</td>\n",
       "      <td>16.2949</td>\n",
       "      <td>77.3568</td>\n",
       "      <td>1</td>\n",
       "      <td>2016.0</td>\n",
       "      <td>22</td>\n",
       "      <td>2</td>\n",
       "      <td>797.063475</td>\n",
       "      <td>805.760000</td>\n",
       "      <td>0.994875</td>\n",
       "      <td>233.596650</td>\n",
       "      <td>865.400000</td>\n",
       "    </tr>\n",
       "    <tr>\n",
       "      <th>904</th>\n",
       "      <td>3.0</td>\n",
       "      <td>12.8932</td>\n",
       "      <td>78.1654</td>\n",
       "      <td>6</td>\n",
       "      <td>2000.0</td>\n",
       "      <td>77</td>\n",
       "      <td>0</td>\n",
       "      <td>797.063475</td>\n",
       "      <td>805.760000</td>\n",
       "      <td>701.027250</td>\n",
       "      <td>716.728350</td>\n",
       "      <td>807.601700</td>\n",
       "    </tr>\n",
       "    <tr>\n",
       "      <th>905</th>\n",
       "      <td>25.5</td>\n",
       "      <td>15.2758</td>\n",
       "      <td>75.5811</td>\n",
       "      <td>7</td>\n",
       "      <td>2000.0</td>\n",
       "      <td>21</td>\n",
       "      <td>2</td>\n",
       "      <td>797.063475</td>\n",
       "      <td>805.760000</td>\n",
       "      <td>701.027250</td>\n",
       "      <td>716.728350</td>\n",
       "      <td>807.601700</td>\n",
       "    </tr>\n",
       "    <tr>\n",
       "      <th>906</th>\n",
       "      <td>80.0</td>\n",
       "      <td>24.3500</td>\n",
       "      <td>73.7477</td>\n",
       "      <td>1</td>\n",
       "      <td>2000.0</td>\n",
       "      <td>59</td>\n",
       "      <td>2</td>\n",
       "      <td>797.063475</td>\n",
       "      <td>805.760000</td>\n",
       "      <td>701.027250</td>\n",
       "      <td>716.728350</td>\n",
       "      <td>807.601700</td>\n",
       "    </tr>\n",
       "    <tr>\n",
       "      <th>907</th>\n",
       "      <td>16.5</td>\n",
       "      <td>9.9344</td>\n",
       "      <td>77.4768</td>\n",
       "      <td>7</td>\n",
       "      <td>2000.0</td>\n",
       "      <td>21</td>\n",
       "      <td>2</td>\n",
       "      <td>797.063475</td>\n",
       "      <td>805.760000</td>\n",
       "      <td>701.027250</td>\n",
       "      <td>716.728350</td>\n",
       "      <td>807.601700</td>\n",
       "    </tr>\n",
       "  </tbody>\n",
       "</table>\n",
       "<p>908 rows × 12 columns</p>\n",
       "</div>"
      ],
      "text/plain": [
       "     capacity_mw  latitude  longitude  primary_fuel  commissioning_year  \\\n",
       "0            2.5   28.1839    73.2407             6              2011.0   \n",
       "1           98.0   24.7663    74.6090             1              2000.0   \n",
       "2           39.2   21.9038    69.3732             7              2000.0   \n",
       "3          135.0   23.8712    91.3602             2              2004.0   \n",
       "4         1800.0   21.9603    82.4091             1              2015.0   \n",
       "..           ...       ...        ...           ...                 ...   \n",
       "903       1600.0   16.2949    77.3568             1              2016.0   \n",
       "904          3.0   12.8932    78.1654             6              2000.0   \n",
       "905         25.5   15.2758    75.5811             7              2000.0   \n",
       "906         80.0   24.3500    73.7477             1              2000.0   \n",
       "907         16.5    9.9344    77.4768             7              2000.0   \n",
       "\n",
       "     source  geolocation_source  generation_gwh_2013  generation_gwh_2014  \\\n",
       "0       109                   1           797.063475           805.760000   \n",
       "1       174                   2           797.063475           805.760000   \n",
       "2        21                   2           797.063475           805.760000   \n",
       "3        22                   2           631.777928           617.789264   \n",
       "4        22                   2          1668.290000          3035.550000   \n",
       "..      ...                 ...                  ...                  ...   \n",
       "903      22                   2           797.063475           805.760000   \n",
       "904      77                   0           797.063475           805.760000   \n",
       "905      21                   2           797.063475           805.760000   \n",
       "906      59                   2           797.063475           805.760000   \n",
       "907      21                   2           797.063475           805.760000   \n",
       "\n",
       "     generation_gwh_2015  generation_gwh_2016  generation_gwh_2017  \n",
       "0             701.027250           716.728350           807.601700  \n",
       "1             701.027250           716.728350           807.601700  \n",
       "2             701.027250           716.728350           807.601700  \n",
       "3             843.747000           886.004428           663.774500  \n",
       "4            5916.370000          6243.000000          5385.579736  \n",
       "..                   ...                  ...                  ...  \n",
       "903             0.994875           233.596650           865.400000  \n",
       "904           701.027250           716.728350           807.601700  \n",
       "905           701.027250           716.728350           807.601700  \n",
       "906           701.027250           716.728350           807.601700  \n",
       "907           701.027250           716.728350           807.601700  \n",
       "\n",
       "[908 rows x 12 columns]"
      ]
     },
     "execution_count": 61,
     "metadata": {},
     "output_type": "execute_result"
    }
   ],
   "source": [
    "df"
   ]
  },
  {
   "cell_type": "code",
   "execution_count": 62,
   "id": "d4e5a2ce",
   "metadata": {},
   "outputs": [
    {
     "data": {
      "text/plain": [
       "<AxesSubplot:>"
      ]
     },
     "execution_count": 62,
     "metadata": {},
     "output_type": "execute_result"
    },
    {
     "data": {
      "image/png": "[encoded data removed]",
      "text/plain": [
       "<Figure size 720x720 with 2 Axes>"
      ]
     },
     "metadata": {},
     "output_type": "display_data"
    }
   ],
   "source": [
    "import matplotlib.pyplot as plt\n",
    "plt.figure(figsize=(10,10))\n",
    "sns.heatmap(df.corr(),annot=True)"
   ]
  },
  {
   "cell_type": "code",
   "execution_count": 63,
   "id": "b0ab6255",
   "metadata": {},
   "outputs": [
    {
     "data": {
      "text/plain": [
       "capacity_mw               AxesSubplot(0.125,0.657941;0.168478x0.222059)\n",
       "latitude               AxesSubplot(0.327174,0.657941;0.168478x0.222059)\n",
       "longitude              AxesSubplot(0.529348,0.657941;0.168478x0.222059)\n",
       "primary_fuel           AxesSubplot(0.731522,0.657941;0.168478x0.222059)\n",
       "commissioning_year        AxesSubplot(0.125,0.391471;0.168478x0.222059)\n",
       "source                 AxesSubplot(0.327174,0.391471;0.168478x0.222059)\n",
       "geolocation_source     AxesSubplot(0.529348,0.391471;0.168478x0.222059)\n",
       "generation_gwh_2013    AxesSubplot(0.731522,0.391471;0.168478x0.222059)\n",
       "generation_gwh_2014          AxesSubplot(0.125,0.125;0.168478x0.222059)\n",
       "generation_gwh_2015       AxesSubplot(0.327174,0.125;0.168478x0.222059)\n",
       "generation_gwh_2016       AxesSubplot(0.529348,0.125;0.168478x0.222059)\n",
       "generation_gwh_2017       AxesSubplot(0.731522,0.125;0.168478x0.222059)\n",
       "dtype: object"
      ]
     },
     "execution_count": 63,
     "metadata": {},
     "output_type": "execute_result"
    },
    {
     "data": {
      "image/png": "[encoded data removed]",
      "text/plain": [
       "<Figure size 432x288 with 12 Axes>"
      ]
     },
     "metadata": {},
     "output_type": "display_data"
    }
   ],
   "source": [
    "df.plot(kind='box',subplots=True,layout=(3,4))"
   ]
  },
  {
   "cell_type": "code",
   "execution_count": 64,
   "id": "07e7ed8c",
   "metadata": {},
   "outputs": [],
   "source": [
    "from scipy.stats import zscore\n",
    "import numpy as np\n",
    "z = np.abs(zscore(df[['generation_gwh_2013','generation_gwh_2014','generation_gwh_2015','generation_gwh_2016','generation_gwh_2017']]))\n",
    "threshold = 3\n",
    "df = df[(z<3).all(axis = 1)]"
   ]
  },
  {
   "cell_type": "code",
   "execution_count": 65,
   "id": "1e2078cf",
   "metadata": {},
   "outputs": [
    {
     "data": {
      "text/plain": [
       "(889, 12)"
      ]
     },
     "execution_count": 65,
     "metadata": {},
     "output_type": "execute_result"
    }
   ],
   "source": [
    "df.shape"
   ]
  },
  {
   "cell_type": "code",
   "execution_count": 66,
   "id": "1595afb1",
   "metadata": {},
   "outputs": [
    {
     "data": {
      "text/html": [
       "<div>\n",
       "<style scoped>\n",
       "    .dataframe tbody tr th:only-of-type {\n",
       "        vertical-align: middle;\n",
       "    }\n",
       "\n",
       "    .dataframe tbody tr th {\n",
       "        vertical-align: top;\n",
       "    }\n",
       "\n",
       "    .dataframe thead th {\n",
       "        text-align: right;\n",
       "    }\n",
       "</style>\n",
       "<table border=\"1\" class=\"dataframe\">\n",
       "  <thead>\n",
       "    <tr style=\"text-align: right;\">\n",
       "      <th></th>\n",
       "      <th>capacity_mw</th>\n",
       "      <th>latitude</th>\n",
       "      <th>longitude</th>\n",
       "      <th>primary_fuel</th>\n",
       "      <th>commissioning_year</th>\n",
       "      <th>source</th>\n",
       "      <th>geolocation_source</th>\n",
       "      <th>generation_gwh_2013</th>\n",
       "      <th>generation_gwh_2014</th>\n",
       "      <th>generation_gwh_2015</th>\n",
       "      <th>generation_gwh_2016</th>\n",
       "      <th>generation_gwh_2017</th>\n",
       "    </tr>\n",
       "  </thead>\n",
       "  <tbody>\n",
       "    <tr>\n",
       "      <th>0</th>\n",
       "      <td>2.5</td>\n",
       "      <td>28.1839</td>\n",
       "      <td>73.2407</td>\n",
       "      <td>6</td>\n",
       "      <td>2011.0</td>\n",
       "      <td>109</td>\n",
       "      <td>1</td>\n",
       "      <td>797.063475</td>\n",
       "      <td>805.760000</td>\n",
       "      <td>701.027250</td>\n",
       "      <td>716.728350</td>\n",
       "      <td>807.601700</td>\n",
       "    </tr>\n",
       "    <tr>\n",
       "      <th>1</th>\n",
       "      <td>98.0</td>\n",
       "      <td>24.7663</td>\n",
       "      <td>74.6090</td>\n",
       "      <td>1</td>\n",
       "      <td>2000.0</td>\n",
       "      <td>174</td>\n",
       "      <td>2</td>\n",
       "      <td>797.063475</td>\n",
       "      <td>805.760000</td>\n",
       "      <td>701.027250</td>\n",
       "      <td>716.728350</td>\n",
       "      <td>807.601700</td>\n",
       "    </tr>\n",
       "    <tr>\n",
       "      <th>2</th>\n",
       "      <td>39.2</td>\n",
       "      <td>21.9038</td>\n",
       "      <td>69.3732</td>\n",
       "      <td>7</td>\n",
       "      <td>2000.0</td>\n",
       "      <td>21</td>\n",
       "      <td>2</td>\n",
       "      <td>797.063475</td>\n",
       "      <td>805.760000</td>\n",
       "      <td>701.027250</td>\n",
       "      <td>716.728350</td>\n",
       "      <td>807.601700</td>\n",
       "    </tr>\n",
       "    <tr>\n",
       "      <th>3</th>\n",
       "      <td>135.0</td>\n",
       "      <td>23.8712</td>\n",
       "      <td>91.3602</td>\n",
       "      <td>2</td>\n",
       "      <td>2004.0</td>\n",
       "      <td>22</td>\n",
       "      <td>2</td>\n",
       "      <td>631.777928</td>\n",
       "      <td>617.789264</td>\n",
       "      <td>843.747000</td>\n",
       "      <td>886.004428</td>\n",
       "      <td>663.774500</td>\n",
       "    </tr>\n",
       "    <tr>\n",
       "      <th>4</th>\n",
       "      <td>1800.0</td>\n",
       "      <td>21.9603</td>\n",
       "      <td>82.4091</td>\n",
       "      <td>1</td>\n",
       "      <td>2015.0</td>\n",
       "      <td>22</td>\n",
       "      <td>2</td>\n",
       "      <td>1668.290000</td>\n",
       "      <td>3035.550000</td>\n",
       "      <td>5916.370000</td>\n",
       "      <td>6243.000000</td>\n",
       "      <td>5385.579736</td>\n",
       "    </tr>\n",
       "    <tr>\n",
       "      <th>...</th>\n",
       "      <td>...</td>\n",
       "      <td>...</td>\n",
       "      <td>...</td>\n",
       "      <td>...</td>\n",
       "      <td>...</td>\n",
       "      <td>...</td>\n",
       "      <td>...</td>\n",
       "      <td>...</td>\n",
       "      <td>...</td>\n",
       "      <td>...</td>\n",
       "      <td>...</td>\n",
       "      <td>...</td>\n",
       "    </tr>\n",
       "    <tr>\n",
       "      <th>903</th>\n",
       "      <td>1600.0</td>\n",
       "      <td>16.2949</td>\n",
       "      <td>77.3568</td>\n",
       "      <td>1</td>\n",
       "      <td>2016.0</td>\n",
       "      <td>22</td>\n",
       "      <td>2</td>\n",
       "      <td>797.063475</td>\n",
       "      <td>805.760000</td>\n",
       "      <td>0.994875</td>\n",
       "      <td>233.596650</td>\n",
       "      <td>865.400000</td>\n",
       "    </tr>\n",
       "    <tr>\n",
       "      <th>904</th>\n",
       "      <td>3.0</td>\n",
       "      <td>12.8932</td>\n",
       "      <td>78.1654</td>\n",
       "      <td>6</td>\n",
       "      <td>2000.0</td>\n",
       "      <td>77</td>\n",
       "      <td>0</td>\n",
       "      <td>797.063475</td>\n",
       "      <td>805.760000</td>\n",
       "      <td>701.027250</td>\n",
       "      <td>716.728350</td>\n",
       "      <td>807.601700</td>\n",
       "    </tr>\n",
       "    <tr>\n",
       "      <th>905</th>\n",
       "      <td>25.5</td>\n",
       "      <td>15.2758</td>\n",
       "      <td>75.5811</td>\n",
       "      <td>7</td>\n",
       "      <td>2000.0</td>\n",
       "      <td>21</td>\n",
       "      <td>2</td>\n",
       "      <td>797.063475</td>\n",
       "      <td>805.760000</td>\n",
       "      <td>701.027250</td>\n",
       "      <td>716.728350</td>\n",
       "      <td>807.601700</td>\n",
       "    </tr>\n",
       "    <tr>\n",
       "      <th>906</th>\n",
       "      <td>80.0</td>\n",
       "      <td>24.3500</td>\n",
       "      <td>73.7477</td>\n",
       "      <td>1</td>\n",
       "      <td>2000.0</td>\n",
       "      <td>59</td>\n",
       "      <td>2</td>\n",
       "      <td>797.063475</td>\n",
       "      <td>805.760000</td>\n",
       "      <td>701.027250</td>\n",
       "      <td>716.728350</td>\n",
       "      <td>807.601700</td>\n",
       "    </tr>\n",
       "    <tr>\n",
       "      <th>907</th>\n",
       "      <td>16.5</td>\n",
       "      <td>9.9344</td>\n",
       "      <td>77.4768</td>\n",
       "      <td>7</td>\n",
       "      <td>2000.0</td>\n",
       "      <td>21</td>\n",
       "      <td>2</td>\n",
       "      <td>797.063475</td>\n",
       "      <td>805.760000</td>\n",
       "      <td>701.027250</td>\n",
       "      <td>716.728350</td>\n",
       "      <td>807.601700</td>\n",
       "    </tr>\n",
       "  </tbody>\n",
       "</table>\n",
       "<p>889 rows × 12 columns</p>\n",
       "</div>"
      ],
      "text/plain": [
       "     capacity_mw  latitude  longitude  primary_fuel  commissioning_year  \\\n",
       "0            2.5   28.1839    73.2407             6              2011.0   \n",
       "1           98.0   24.7663    74.6090             1              2000.0   \n",
       "2           39.2   21.9038    69.3732             7              2000.0   \n",
       "3          135.0   23.8712    91.3602             2              2004.0   \n",
       "4         1800.0   21.9603    82.4091             1              2015.0   \n",
       "..           ...       ...        ...           ...                 ...   \n",
       "903       1600.0   16.2949    77.3568             1              2016.0   \n",
       "904          3.0   12.8932    78.1654             6              2000.0   \n",
       "905         25.5   15.2758    75.5811             7              2000.0   \n",
       "906         80.0   24.3500    73.7477             1              2000.0   \n",
       "907         16.5    9.9344    77.4768             7              2000.0   \n",
       "\n",
       "     source  geolocation_source  generation_gwh_2013  generation_gwh_2014  \\\n",
       "0       109                   1           797.063475           805.760000   \n",
       "1       174                   2           797.063475           805.760000   \n",
       "2        21                   2           797.063475           805.760000   \n",
       "3        22                   2           631.777928           617.789264   \n",
       "4        22                   2          1668.290000          3035.550000   \n",
       "..      ...                 ...                  ...                  ...   \n",
       "903      22                   2           797.063475           805.760000   \n",
       "904      77                   0           797.063475           805.760000   \n",
       "905      21                   2           797.063475           805.760000   \n",
       "906      59                   2           797.063475           805.760000   \n",
       "907      21                   2           797.063475           805.760000   \n",
       "\n",
       "     generation_gwh_2015  generation_gwh_2016  generation_gwh_2017  \n",
       "0             701.027250           716.728350           807.601700  \n",
       "1             701.027250           716.728350           807.601700  \n",
       "2             701.027250           716.728350           807.601700  \n",
       "3             843.747000           886.004428           663.774500  \n",
       "4            5916.370000          6243.000000          5385.579736  \n",
       "..                   ...                  ...                  ...  \n",
       "903             0.994875           233.596650           865.400000  \n",
       "904           701.027250           716.728350           807.601700  \n",
       "905           701.027250           716.728350           807.601700  \n",
       "906           701.027250           716.728350           807.601700  \n",
       "907           701.027250           716.728350           807.601700  \n",
       "\n",
       "[889 rows x 12 columns]"
      ]
     },
     "execution_count": 66,
     "metadata": {},
     "output_type": "execute_result"
    }
   ],
   "source": [
    "df"
   ]
  },
  {
   "cell_type": "code",
   "execution_count": 67,
   "id": "a0ccee08",
   "metadata": {},
   "outputs": [
    {
     "data": {
      "image/png": "[encoded data removed]",
      "text/plain": [
       "<Figure size 1296x1440 with 12 Axes>"
      ]
     },
     "metadata": {},
     "output_type": "display_data"
    }
   ],
   "source": [
    "plt.figure(figsize=(18,20))\n",
    "for i in enumerate(df):\n",
    "    plt.subplot(8,4,i[0]+1)\n",
    "    sns.distplot(df[i[1]],color='b')"
   ]
  },
  {
   "cell_type": "code",
   "execution_count": 68,
   "id": "013921c8",
   "metadata": {},
   "outputs": [
    {
     "data": {
      "text/plain": [
       "capacity_mw            2.199138\n",
       "latitude              -0.152882\n",
       "longitude              1.208901\n",
       "primary_fuel           0.437793\n",
       "commissioning_year    -1.647324\n",
       "source                 1.795224\n",
       "geolocation_source    -2.125933\n",
       "generation_gwh_2013    3.163036\n",
       "generation_gwh_2014    3.005844\n",
       "generation_gwh_2015    2.782405\n",
       "generation_gwh_2016    2.702530\n",
       "generation_gwh_2017    2.596006\n",
       "dtype: float64"
      ]
     },
     "execution_count": 68,
     "metadata": {},
     "output_type": "execute_result"
    }
   ],
   "source": [
    "df.skew()"
   ]
  },
  {
   "cell_type": "markdown",
   "id": "92d59ee1",
   "metadata": {},
   "source": [
    "We will remove the skewness of the most correlated predictors in the data using power transform"
   ]
  },
  {
   "cell_type": "code",
   "execution_count": 69,
   "id": "de11e8ba",
   "metadata": {},
   "outputs": [
    {
     "data": {
      "text/plain": [
       "capacity_mw            0\n",
       "latitude               0\n",
       "longitude              0\n",
       "primary_fuel           0\n",
       "commissioning_year     0\n",
       "source                 0\n",
       "geolocation_source     0\n",
       "generation_gwh_2013    0\n",
       "generation_gwh_2014    0\n",
       "generation_gwh_2015    0\n",
       "generation_gwh_2016    0\n",
       "generation_gwh_2017    0\n",
       "dtype: int64"
      ]
     },
     "execution_count": 69,
     "metadata": {},
     "output_type": "execute_result"
    }
   ],
   "source": [
    "df.isnull().sum()"
   ]
  },
  {
   "cell_type": "code",
   "execution_count": 70,
   "id": "60deea7d",
   "metadata": {},
   "outputs": [],
   "source": [
    "from sklearn.preprocessing import power_transform"
   ]
  },
  {
   "cell_type": "code",
   "execution_count": 71,
   "id": "b487fa45",
   "metadata": {},
   "outputs": [],
   "source": [
    "df[['capacity_mw',\"generation_gwh_2013\",'generation_gwh_2014','generation_gwh_2015','generation_gwh_2016','generation_gwh_2017']]=power_transform(df[['capacity_mw',\"generation_gwh_2013\",'generation_gwh_2014','generation_gwh_2015','generation_gwh_2016','generation_gwh_2017']])"
   ]
  },
  {
   "cell_type": "code",
   "execution_count": 72,
   "id": "6168bf3a",
   "metadata": {},
   "outputs": [
    {
     "data": {
      "text/plain": [
       "capacity_mw            0.015904\n",
       "latitude              -0.152882\n",
       "longitude              1.208901\n",
       "primary_fuel           0.437793\n",
       "commissioning_year    -1.647324\n",
       "source                 1.795224\n",
       "geolocation_source    -2.125933\n",
       "generation_gwh_2013    0.276839\n",
       "generation_gwh_2014    0.232123\n",
       "generation_gwh_2015    0.168839\n",
       "generation_gwh_2016    0.150575\n",
       "generation_gwh_2017    0.129610\n",
       "dtype: float64"
      ]
     },
     "execution_count": 72,
     "metadata": {},
     "output_type": "execute_result"
    }
   ],
   "source": [
    "df.skew()"
   ]
  },
  {
   "cell_type": "code",
   "execution_count": 73,
   "id": "e7d3b5fb",
   "metadata": {},
   "outputs": [
    {
     "data": {
      "image/png": "[encoded data removed]",
      "text/plain": [
       "<Figure size 1296x1440 with 12 Axes>"
      ]
     },
     "metadata": {},
     "output_type": "display_data"
    }
   ],
   "source": [
    "\n",
    "plt.figure(figsize=(18,20))\n",
    "for i in enumerate(df):\n",
    "    plt.subplot(8,4,i[0]+1)\n",
    "    sns.distplot(df[i[1]],color='r')"
   ]
  },
  {
   "cell_type": "code",
   "execution_count": 74,
   "id": "6b09f44d",
   "metadata": {},
   "outputs": [],
   "source": [
    "x=df.drop(['capacity_mw'],axis=1)\n",
    "y=df['capacity_mw']"
   ]
  },
  {
   "cell_type": "code",
   "execution_count": 75,
   "id": "edf0dde5",
   "metadata": {},
   "outputs": [
    {
     "data": {
      "text/html": [
       "<div>\n",
       "<style scoped>\n",
       "    .dataframe tbody tr th:only-of-type {\n",
       "        vertical-align: middle;\n",
       "    }\n",
       "\n",
       "    .dataframe tbody tr th {\n",
       "        vertical-align: top;\n",
       "    }\n",
       "\n",
       "    .dataframe thead th {\n",
       "        text-align: right;\n",
       "    }\n",
       "</style>\n",
       "<table border=\"1\" class=\"dataframe\">\n",
       "  <thead>\n",
       "    <tr style=\"text-align: right;\">\n",
       "      <th></th>\n",
       "      <th>capacity_mw</th>\n",
       "      <th>latitude</th>\n",
       "      <th>longitude</th>\n",
       "      <th>primary_fuel</th>\n",
       "      <th>commissioning_year</th>\n",
       "      <th>source</th>\n",
       "      <th>geolocation_source</th>\n",
       "      <th>generation_gwh_2013</th>\n",
       "      <th>generation_gwh_2014</th>\n",
       "      <th>generation_gwh_2015</th>\n",
       "      <th>generation_gwh_2016</th>\n",
       "      <th>generation_gwh_2017</th>\n",
       "    </tr>\n",
       "  </thead>\n",
       "  <tbody>\n",
       "    <tr>\n",
       "      <th>0</th>\n",
       "      <td>-1.690167</td>\n",
       "      <td>28.1839</td>\n",
       "      <td>73.2407</td>\n",
       "      <td>6</td>\n",
       "      <td>2011.0</td>\n",
       "      <td>109</td>\n",
       "      <td>1</td>\n",
       "      <td>-0.022280</td>\n",
       "      <td>-0.022879</td>\n",
       "      <td>-0.034940</td>\n",
       "      <td>-0.035505</td>\n",
       "      <td>-0.017269</td>\n",
       "    </tr>\n",
       "    <tr>\n",
       "      <th>1</th>\n",
       "      <td>0.232160</td>\n",
       "      <td>24.7663</td>\n",
       "      <td>74.6090</td>\n",
       "      <td>1</td>\n",
       "      <td>2000.0</td>\n",
       "      <td>174</td>\n",
       "      <td>2</td>\n",
       "      <td>-0.022280</td>\n",
       "      <td>-0.022879</td>\n",
       "      <td>-0.034940</td>\n",
       "      <td>-0.035505</td>\n",
       "      <td>-0.017269</td>\n",
       "    </tr>\n",
       "    <tr>\n",
       "      <th>2</th>\n",
       "      <td>-0.268716</td>\n",
       "      <td>21.9038</td>\n",
       "      <td>69.3732</td>\n",
       "      <td>7</td>\n",
       "      <td>2000.0</td>\n",
       "      <td>21</td>\n",
       "      <td>2</td>\n",
       "      <td>-0.022280</td>\n",
       "      <td>-0.022879</td>\n",
       "      <td>-0.034940</td>\n",
       "      <td>-0.035505</td>\n",
       "      <td>-0.017269</td>\n",
       "    </tr>\n",
       "    <tr>\n",
       "      <th>3</th>\n",
       "      <td>0.405661</td>\n",
       "      <td>23.8712</td>\n",
       "      <td>91.3602</td>\n",
       "      <td>2</td>\n",
       "      <td>2004.0</td>\n",
       "      <td>22</td>\n",
       "      <td>2</td>\n",
       "      <td>-0.238844</td>\n",
       "      <td>-0.254964</td>\n",
       "      <td>0.120896</td>\n",
       "      <td>0.139583</td>\n",
       "      <td>-0.171687</td>\n",
       "    </tr>\n",
       "    <tr>\n",
       "      <th>4</th>\n",
       "      <td>1.761719</td>\n",
       "      <td>21.9603</td>\n",
       "      <td>82.4091</td>\n",
       "      <td>1</td>\n",
       "      <td>2015.0</td>\n",
       "      <td>22</td>\n",
       "      <td>2</td>\n",
       "      <td>0.771286</td>\n",
       "      <td>1.453921</td>\n",
       "      <td>2.321521</td>\n",
       "      <td>2.304923</td>\n",
       "      <td>2.004190</td>\n",
       "    </tr>\n",
       "    <tr>\n",
       "      <th>...</th>\n",
       "      <td>...</td>\n",
       "      <td>...</td>\n",
       "      <td>...</td>\n",
       "      <td>...</td>\n",
       "      <td>...</td>\n",
       "      <td>...</td>\n",
       "      <td>...</td>\n",
       "      <td>...</td>\n",
       "      <td>...</td>\n",
       "      <td>...</td>\n",
       "      <td>...</td>\n",
       "      <td>...</td>\n",
       "    </tr>\n",
       "    <tr>\n",
       "      <th>903</th>\n",
       "      <td>1.702027</td>\n",
       "      <td>16.2949</td>\n",
       "      <td>77.3568</td>\n",
       "      <td>1</td>\n",
       "      <td>2016.0</td>\n",
       "      <td>22</td>\n",
       "      <td>2</td>\n",
       "      <td>-0.022280</td>\n",
       "      <td>-0.022879</td>\n",
       "      <td>-2.474113</td>\n",
       "      <td>-0.814933</td>\n",
       "      <td>0.039194</td>\n",
       "    </tr>\n",
       "    <tr>\n",
       "      <th>904</th>\n",
       "      <td>-1.609891</td>\n",
       "      <td>12.8932</td>\n",
       "      <td>78.1654</td>\n",
       "      <td>6</td>\n",
       "      <td>2000.0</td>\n",
       "      <td>77</td>\n",
       "      <td>0</td>\n",
       "      <td>-0.022280</td>\n",
       "      <td>-0.022879</td>\n",
       "      <td>-0.034940</td>\n",
       "      <td>-0.035505</td>\n",
       "      <td>-0.017269</td>\n",
       "    </tr>\n",
       "    <tr>\n",
       "      <th>905</th>\n",
       "      <td>-0.504591</td>\n",
       "      <td>15.2758</td>\n",
       "      <td>75.5811</td>\n",
       "      <td>7</td>\n",
       "      <td>2000.0</td>\n",
       "      <td>21</td>\n",
       "      <td>2</td>\n",
       "      <td>-0.022280</td>\n",
       "      <td>-0.022879</td>\n",
       "      <td>-0.034940</td>\n",
       "      <td>-0.035505</td>\n",
       "      <td>-0.017269</td>\n",
       "    </tr>\n",
       "    <tr>\n",
       "      <th>906</th>\n",
       "      <td>0.121720</td>\n",
       "      <td>24.3500</td>\n",
       "      <td>73.7477</td>\n",
       "      <td>1</td>\n",
       "      <td>2000.0</td>\n",
       "      <td>59</td>\n",
       "      <td>2</td>\n",
       "      <td>-0.022280</td>\n",
       "      <td>-0.022879</td>\n",
       "      <td>-0.034940</td>\n",
       "      <td>-0.035505</td>\n",
       "      <td>-0.017269</td>\n",
       "    </tr>\n",
       "    <tr>\n",
       "      <th>907</th>\n",
       "      <td>-0.742193</td>\n",
       "      <td>9.9344</td>\n",
       "      <td>77.4768</td>\n",
       "      <td>7</td>\n",
       "      <td>2000.0</td>\n",
       "      <td>21</td>\n",
       "      <td>2</td>\n",
       "      <td>-0.022280</td>\n",
       "      <td>-0.022879</td>\n",
       "      <td>-0.034940</td>\n",
       "      <td>-0.035505</td>\n",
       "      <td>-0.017269</td>\n",
       "    </tr>\n",
       "  </tbody>\n",
       "</table>\n",
       "<p>889 rows × 12 columns</p>\n",
       "</div>"
      ],
      "text/plain": [
       "     capacity_mw  latitude  longitude  primary_fuel  commissioning_year  \\\n",
       "0      -1.690167   28.1839    73.2407             6              2011.0   \n",
       "1       0.232160   24.7663    74.6090             1              2000.0   \n",
       "2      -0.268716   21.9038    69.3732             7              2000.0   \n",
       "3       0.405661   23.8712    91.3602             2              2004.0   \n",
       "4       1.761719   21.9603    82.4091             1              2015.0   \n",
       "..           ...       ...        ...           ...                 ...   \n",
       "903     1.702027   16.2949    77.3568             1              2016.0   \n",
       "904    -1.609891   12.8932    78.1654             6              2000.0   \n",
       "905    -0.504591   15.2758    75.5811             7              2000.0   \n",
       "906     0.121720   24.3500    73.7477             1              2000.0   \n",
       "907    -0.742193    9.9344    77.4768             7              2000.0   \n",
       "\n",
       "     source  geolocation_source  generation_gwh_2013  generation_gwh_2014  \\\n",
       "0       109                   1            -0.022280            -0.022879   \n",
       "1       174                   2            -0.022280            -0.022879   \n",
       "2        21                   2            -0.022280            -0.022879   \n",
       "3        22                   2            -0.238844            -0.254964   \n",
       "4        22                   2             0.771286             1.453921   \n",
       "..      ...                 ...                  ...                  ...   \n",
       "903      22                   2            -0.022280            -0.022879   \n",
       "904      77                   0            -0.022280            -0.022879   \n",
       "905      21                   2            -0.022280            -0.022879   \n",
       "906      59                   2            -0.022280            -0.022879   \n",
       "907      21                   2            -0.022280            -0.022879   \n",
       "\n",
       "     generation_gwh_2015  generation_gwh_2016  generation_gwh_2017  \n",
       "0              -0.034940            -0.035505            -0.017269  \n",
       "1              -0.034940            -0.035505            -0.017269  \n",
       "2              -0.034940            -0.035505            -0.017269  \n",
       "3               0.120896             0.139583            -0.171687  \n",
       "4               2.321521             2.304923             2.004190  \n",
       "..                   ...                  ...                  ...  \n",
       "903            -2.474113            -0.814933             0.039194  \n",
       "904            -0.034940            -0.035505            -0.017269  \n",
       "905            -0.034940            -0.035505            -0.017269  \n",
       "906            -0.034940            -0.035505            -0.017269  \n",
       "907            -0.034940            -0.035505            -0.017269  \n",
       "\n",
       "[889 rows x 12 columns]"
      ]
     },
     "execution_count": 75,
     "metadata": {},
     "output_type": "execute_result"
    }
   ],
   "source": [
    "df"
   ]
  },
  {
   "cell_type": "code",
   "execution_count": 76,
   "id": "61a87a04",
   "metadata": {},
   "outputs": [
    {
     "data": {
      "text/html": [
       "<div>\n",
       "<style scoped>\n",
       "    .dataframe tbody tr th:only-of-type {\n",
       "        vertical-align: middle;\n",
       "    }\n",
       "\n",
       "    .dataframe tbody tr th {\n",
       "        vertical-align: top;\n",
       "    }\n",
       "\n",
       "    .dataframe thead th {\n",
       "        text-align: right;\n",
       "    }\n",
       "</style>\n",
       "<table border=\"1\" class=\"dataframe\">\n",
       "  <thead>\n",
       "    <tr style=\"text-align: right;\">\n",
       "      <th></th>\n",
       "      <th>capacity_mw</th>\n",
       "      <th>latitude</th>\n",
       "      <th>longitude</th>\n",
       "      <th>primary_fuel</th>\n",
       "      <th>commissioning_year</th>\n",
       "      <th>source</th>\n",
       "      <th>geolocation_source</th>\n",
       "      <th>generation_gwh_2013</th>\n",
       "      <th>generation_gwh_2014</th>\n",
       "      <th>generation_gwh_2015</th>\n",
       "      <th>generation_gwh_2016</th>\n",
       "      <th>generation_gwh_2017</th>\n",
       "    </tr>\n",
       "  </thead>\n",
       "  <tbody>\n",
       "    <tr>\n",
       "      <th>0</th>\n",
       "      <td>-1.690167</td>\n",
       "      <td>28.1839</td>\n",
       "      <td>73.2407</td>\n",
       "      <td>6</td>\n",
       "      <td>2011.0</td>\n",
       "      <td>109</td>\n",
       "      <td>1</td>\n",
       "      <td>-0.022280</td>\n",
       "      <td>-0.022879</td>\n",
       "      <td>-0.034940</td>\n",
       "      <td>-0.035505</td>\n",
       "      <td>-0.017269</td>\n",
       "    </tr>\n",
       "    <tr>\n",
       "      <th>1</th>\n",
       "      <td>0.232160</td>\n",
       "      <td>24.7663</td>\n",
       "      <td>74.6090</td>\n",
       "      <td>1</td>\n",
       "      <td>2000.0</td>\n",
       "      <td>174</td>\n",
       "      <td>2</td>\n",
       "      <td>-0.022280</td>\n",
       "      <td>-0.022879</td>\n",
       "      <td>-0.034940</td>\n",
       "      <td>-0.035505</td>\n",
       "      <td>-0.017269</td>\n",
       "    </tr>\n",
       "    <tr>\n",
       "      <th>2</th>\n",
       "      <td>-0.268716</td>\n",
       "      <td>21.9038</td>\n",
       "      <td>69.3732</td>\n",
       "      <td>7</td>\n",
       "      <td>2000.0</td>\n",
       "      <td>21</td>\n",
       "      <td>2</td>\n",
       "      <td>-0.022280</td>\n",
       "      <td>-0.022879</td>\n",
       "      <td>-0.034940</td>\n",
       "      <td>-0.035505</td>\n",
       "      <td>-0.017269</td>\n",
       "    </tr>\n",
       "    <tr>\n",
       "      <th>3</th>\n",
       "      <td>0.405661</td>\n",
       "      <td>23.8712</td>\n",
       "      <td>91.3602</td>\n",
       "      <td>2</td>\n",
       "      <td>2004.0</td>\n",
       "      <td>22</td>\n",
       "      <td>2</td>\n",
       "      <td>-0.238844</td>\n",
       "      <td>-0.254964</td>\n",
       "      <td>0.120896</td>\n",
       "      <td>0.139583</td>\n",
       "      <td>-0.171687</td>\n",
       "    </tr>\n",
       "    <tr>\n",
       "      <th>4</th>\n",
       "      <td>1.761719</td>\n",
       "      <td>21.9603</td>\n",
       "      <td>82.4091</td>\n",
       "      <td>1</td>\n",
       "      <td>2015.0</td>\n",
       "      <td>22</td>\n",
       "      <td>2</td>\n",
       "      <td>0.771286</td>\n",
       "      <td>1.453921</td>\n",
       "      <td>2.321521</td>\n",
       "      <td>2.304923</td>\n",
       "      <td>2.004190</td>\n",
       "    </tr>\n",
       "    <tr>\n",
       "      <th>...</th>\n",
       "      <td>...</td>\n",
       "      <td>...</td>\n",
       "      <td>...</td>\n",
       "      <td>...</td>\n",
       "      <td>...</td>\n",
       "      <td>...</td>\n",
       "      <td>...</td>\n",
       "      <td>...</td>\n",
       "      <td>...</td>\n",
       "      <td>...</td>\n",
       "      <td>...</td>\n",
       "      <td>...</td>\n",
       "    </tr>\n",
       "    <tr>\n",
       "      <th>903</th>\n",
       "      <td>1.702027</td>\n",
       "      <td>16.2949</td>\n",
       "      <td>77.3568</td>\n",
       "      <td>1</td>\n",
       "      <td>2016.0</td>\n",
       "      <td>22</td>\n",
       "      <td>2</td>\n",
       "      <td>-0.022280</td>\n",
       "      <td>-0.022879</td>\n",
       "      <td>-2.474113</td>\n",
       "      <td>-0.814933</td>\n",
       "      <td>0.039194</td>\n",
       "    </tr>\n",
       "    <tr>\n",
       "      <th>904</th>\n",
       "      <td>-1.609891</td>\n",
       "      <td>12.8932</td>\n",
       "      <td>78.1654</td>\n",
       "      <td>6</td>\n",
       "      <td>2000.0</td>\n",
       "      <td>77</td>\n",
       "      <td>0</td>\n",
       "      <td>-0.022280</td>\n",
       "      <td>-0.022879</td>\n",
       "      <td>-0.034940</td>\n",
       "      <td>-0.035505</td>\n",
       "      <td>-0.017269</td>\n",
       "    </tr>\n",
       "    <tr>\n",
       "      <th>905</th>\n",
       "      <td>-0.504591</td>\n",
       "      <td>15.2758</td>\n",
       "      <td>75.5811</td>\n",
       "      <td>7</td>\n",
       "      <td>2000.0</td>\n",
       "      <td>21</td>\n",
       "      <td>2</td>\n",
       "      <td>-0.022280</td>\n",
       "      <td>-0.022879</td>\n",
       "      <td>-0.034940</td>\n",
       "      <td>-0.035505</td>\n",
       "      <td>-0.017269</td>\n",
       "    </tr>\n",
       "    <tr>\n",
       "      <th>906</th>\n",
       "      <td>0.121720</td>\n",
       "      <td>24.3500</td>\n",
       "      <td>73.7477</td>\n",
       "      <td>1</td>\n",
       "      <td>2000.0</td>\n",
       "      <td>59</td>\n",
       "      <td>2</td>\n",
       "      <td>-0.022280</td>\n",
       "      <td>-0.022879</td>\n",
       "      <td>-0.034940</td>\n",
       "      <td>-0.035505</td>\n",
       "      <td>-0.017269</td>\n",
       "    </tr>\n",
       "    <tr>\n",
       "      <th>907</th>\n",
       "      <td>-0.742193</td>\n",
       "      <td>9.9344</td>\n",
       "      <td>77.4768</td>\n",
       "      <td>7</td>\n",
       "      <td>2000.0</td>\n",
       "      <td>21</td>\n",
       "      <td>2</td>\n",
       "      <td>-0.022280</td>\n",
       "      <td>-0.022879</td>\n",
       "      <td>-0.034940</td>\n",
       "      <td>-0.035505</td>\n",
       "      <td>-0.017269</td>\n",
       "    </tr>\n",
       "  </tbody>\n",
       "</table>\n",
       "<p>889 rows × 12 columns</p>\n",
       "</div>"
      ],
      "text/plain": [
       "     capacity_mw  latitude  longitude  primary_fuel  commissioning_year  \\\n",
       "0      -1.690167   28.1839    73.2407             6              2011.0   \n",
       "1       0.232160   24.7663    74.6090             1              2000.0   \n",
       "2      -0.268716   21.9038    69.3732             7              2000.0   \n",
       "3       0.405661   23.8712    91.3602             2              2004.0   \n",
       "4       1.761719   21.9603    82.4091             1              2015.0   \n",
       "..           ...       ...        ...           ...                 ...   \n",
       "903     1.702027   16.2949    77.3568             1              2016.0   \n",
       "904    -1.609891   12.8932    78.1654             6              2000.0   \n",
       "905    -0.504591   15.2758    75.5811             7              2000.0   \n",
       "906     0.121720   24.3500    73.7477             1              2000.0   \n",
       "907    -0.742193    9.9344    77.4768             7              2000.0   \n",
       "\n",
       "     source  geolocation_source  generation_gwh_2013  generation_gwh_2014  \\\n",
       "0       109                   1            -0.022280            -0.022879   \n",
       "1       174                   2            -0.022280            -0.022879   \n",
       "2        21                   2            -0.022280            -0.022879   \n",
       "3        22                   2            -0.238844            -0.254964   \n",
       "4        22                   2             0.771286             1.453921   \n",
       "..      ...                 ...                  ...                  ...   \n",
       "903      22                   2            -0.022280            -0.022879   \n",
       "904      77                   0            -0.022280            -0.022879   \n",
       "905      21                   2            -0.022280            -0.022879   \n",
       "906      59                   2            -0.022280            -0.022879   \n",
       "907      21                   2            -0.022280            -0.022879   \n",
       "\n",
       "     generation_gwh_2015  generation_gwh_2016  generation_gwh_2017  \n",
       "0              -0.034940            -0.035505            -0.017269  \n",
       "1              -0.034940            -0.035505            -0.017269  \n",
       "2              -0.034940            -0.035505            -0.017269  \n",
       "3               0.120896             0.139583            -0.171687  \n",
       "4               2.321521             2.304923             2.004190  \n",
       "..                   ...                  ...                  ...  \n",
       "903            -2.474113            -0.814933             0.039194  \n",
       "904            -0.034940            -0.035505            -0.017269  \n",
       "905            -0.034940            -0.035505            -0.017269  \n",
       "906            -0.034940            -0.035505            -0.017269  \n",
       "907            -0.034940            -0.035505            -0.017269  \n",
       "\n",
       "[889 rows x 12 columns]"
      ]
     },
     "execution_count": 76,
     "metadata": {},
     "output_type": "execute_result"
    }
   ],
   "source": [
    "df"
   ]
  },
  {
   "cell_type": "markdown",
   "id": "77d09b46",
   "metadata": {},
   "source": [
    "### Scaling the predictors"
   ]
  },
  {
   "cell_type": "code",
   "execution_count": 77,
   "id": "d671b370",
   "metadata": {},
   "outputs": [],
   "source": [
    "from sklearn.preprocessing import MinMaxScaler\n",
    "\n",
    "sc=MinMaxScaler()\n",
    "x=sc.fit_transform(x)"
   ]
  },
  {
   "cell_type": "markdown",
   "id": "c5cda9b6",
   "metadata": {},
   "source": [
    "### Creating the Models and Testing"
   ]
  },
  {
   "cell_type": "code",
   "execution_count": 78,
   "id": "c87423de",
   "metadata": {},
   "outputs": [],
   "source": [
    "from sklearn.metrics import mean_squared_error,mean_absolute_error\n",
    "from sklearn.metrics import r2_score\n",
    "from sklearn.model_selection import train_test_split\n",
    "from sklearn.model_selection import cross_val_score"
   ]
  },
  {
   "cell_type": "code",
   "execution_count": 79,
   "id": "d7d18895",
   "metadata": {},
   "outputs": [
    {
     "name": "stdout",
     "output_type": "stream",
     "text": [
      "max r2 score correspond to random state 34 is 0.8633328397001347 and model is RandomForestRegressor()\n"
     ]
    }
   ],
   "source": [
    "from sklearn.linear_model import LinearRegression\n",
    "from sklearn.ensemble import GradientBoostingRegressor\n",
    "from sklearn.ensemble import RandomForestRegressor\n",
    "from sklearn.tree import DecisionTreeRegressor\n",
    "\n",
    "model=[DecisionTreeRegressor(),RandomForestRegressor(),GradientBoostingRegressor(),LinearRegression()]\n",
    "max_r2_score=0\n",
    "for r_state in range(30,95):\n",
    "    x_train,x_test,y_train,y_test=train_test_split(x,y,random_state=r_state,test_size=0.3)\n",
    "    for i in model:\n",
    "        i.fit(x_train,y_train)\n",
    "        pred=i.predict(x_test)\n",
    "        r2_sc=r2_score(y_test,pred)\n",
    "        if r2_sc>max_r2_score:\n",
    "            max_r2_score=r2_sc\n",
    "            final_state=r_state\n",
    "            final_model=i\n",
    "\n",
    "print(\"max r2 score correspond to random state\",final_state,\"is\",max_r2_score,\"and model is\",final_model)"
   ]
  },
  {
   "cell_type": "code",
   "execution_count": 80,
   "id": "2455a419",
   "metadata": {},
   "outputs": [],
   "source": [
    "\n",
    "#splitting the data into 70% training and 30% testing\n",
    "x_train,x_test,y_train,y_test=train_test_split(x,y,test_size=0.3,random_state=53)"
   ]
  },
  {
   "cell_type": "markdown",
   "id": "11672622",
   "metadata": {},
   "source": [
    "### Cross Validation"
   ]
  },
  {
   "cell_type": "code",
   "execution_count": 81,
   "id": "945456f4",
   "metadata": {},
   "outputs": [
    {
     "name": "stdout",
     "output_type": "stream",
     "text": [
      "LR    : 0.501316, 0.078077\n",
      "RF    : 0.216807, 0.072167\n",
      "DTR    : 0.332323, 0.086211\n",
      "GBR    : 0.208939, 0.067211\n"
     ]
    }
   ],
   "source": [
    "from sklearn.model_selection import cross_val_score\n",
    "\n",
    "\n",
    "def rmse_cv(model, x,y):\n",
    "    rmse =- (cross_val_score(model, x,y, scoring='neg_mean_squared_error', cv=10))\n",
    "    return(rmse)\n",
    "\n",
    "\n",
    "models = [LinearRegression(),\n",
    "             RandomForestRegressor(),\n",
    "             DecisionTreeRegressor(),  \n",
    "             GradientBoostingRegressor()]\n",
    "            \n",
    "\n",
    "\n",
    "names = ['LR','RF','DTR','GBR']\n",
    "\n",
    "for model,name in zip(models,names):\n",
    "    score = rmse_cv(model,x,y)\n",
    "    print(\"{}    : {:.6f}, {:4f}\".format(name,score.mean(),score.std()))"
   ]
  },
  {
   "cell_type": "markdown",
   "id": "12513861",
   "metadata": {},
   "source": [
    "Choosing random forest regressor as best model as the difference between the the mean score and std score is less"
   ]
  },
  {
   "cell_type": "code",
   "execution_count": 82,
   "id": "24684760",
   "metadata": {},
   "outputs": [],
   "source": [
    "\n",
    "from sklearn.model_selection import GridSearchCV"
   ]
  },
  {
   "cell_type": "code",
   "execution_count": 87,
   "id": "0db1e0e8",
   "metadata": {},
   "outputs": [
    {
     "data": {
      "text/plain": [
       "GridSearchCV(cv=10, estimator=RandomForestRegressor(), n_jobs=-1,\n",
       "             param_grid={'criterion': ['mse', 'absolute_error'],\n",
       "                         'max_depth': range(1, 10),\n",
       "                         'max_features': ['auto', 'sqrt', 'log2'],\n",
       "                         'n_estimators': [100, 200]},\n",
       "             scoring='accuracy')"
      ]
     },
     "execution_count": 87,
     "metadata": {},
     "output_type": "execute_result"
    }
   ],
   "source": [
    "parameter={'criterion':['mse','absolute_error'],\n",
    "     'n_estimators':[100, 200],\n",
    "          'max_depth':range(1,10),\n",
    "          'max_features':['auto','sqrt','log2']}\n",
    "GCV=GridSearchCV(RandomForestRegressor(),parameter,cv=10,scoring='accuracy',n_jobs=-1)\n",
    "GCV.fit(x_train,y_train)\n",
    "\n"
   ]
  },
  {
   "cell_type": "code",
   "execution_count": 89,
   "id": "6dcaef84",
   "metadata": {},
   "outputs": [
    {
     "data": {
      "text/plain": [
       "{'criterion': 'mse',\n",
       " 'max_depth': 1,\n",
       " 'max_features': 'auto',\n",
       " 'n_estimators': 100}"
      ]
     },
     "execution_count": 89,
     "metadata": {},
     "output_type": "execute_result"
    }
   ],
   "source": [
    "GCV.best_params_"
   ]
  },
  {
   "cell_type": "code",
   "execution_count": 90,
   "id": "ac985db4",
   "metadata": {},
   "outputs": [
    {
     "name": "stdout",
     "output_type": "stream",
     "text": [
      "0.5291684504374303\n"
     ]
    }
   ],
   "source": [
    "final_mod=RandomForestRegressor(criterion='mse',max_depth= 1,max_features='auto', n_estimators=100)\n",
    "final_mod.fit(x_train,y_train)\n",
    "pred=final_mod.predict(x_test)\n",
    "acc=r2_score(y_test,pred)\n",
    "print(acc)"
   ]
  },
  {
   "cell_type": "code",
   "execution_count": 91,
   "id": "62449f4f",
   "metadata": {},
   "outputs": [
    {
     "name": "stdout",
     "output_type": "stream",
     "text": [
      "MSE: 0.4734528369011991\n",
      "MAE: 0.5375407689226105\n",
      "r2_score: 0.5291684504374303\n"
     ]
    }
   ],
   "source": [
    "print('MSE:',mean_squared_error(y_test,pred))\n",
    "print('MAE:',mean_absolute_error(y_test,pred))\n",
    "print('r2_score:',r2_score(y_test,pred))"
   ]
  },
  {
   "cell_type": "code",
   "execution_count": 92,
   "id": "eb5bf7c2",
   "metadata": {},
   "outputs": [
    {
     "data": {
      "text/plain": [
       "['Plant_capacity.obj']"
      ]
     },
     "execution_count": 92,
     "metadata": {},
     "output_type": "execute_result"
    }
   ],
   "source": [
    "import joblib\n",
    "joblib.dump(final_mod,'Plant_capacity.obj')"
   ]
  },
  {
   "cell_type": "code",
   "execution_count": 93,
   "id": "98c3eeec",
   "metadata": {},
   "outputs": [
    {
     "data": {
      "text/plain": [
       "[<matplotlib.lines.Line2D at 0x131ccc66340>]"
      ]
     },
     "execution_count": 93,
     "metadata": {},
     "output_type": "execute_result"
    },
    {
     "data": {
      "image/png": "[encoded data removed]",
      "text/plain": [
       "<Figure size 432x288 with 1 Axes>"
      ]
     },
     "metadata": {},
     "output_type": "display_data"
    }
   ],
   "source": [
    "\n",
    "plt.scatter(y_test,pred)\n",
    "plt.plot(y_test,y_test,linewidth=2,color='Red')"
   ]
  },
  {
   "cell_type": "markdown",
   "id": "5b54699a",
   "metadata": {},
   "source": [
    "Classification Model for Primary Fuel Classification"
   ]
  },
  {
   "cell_type": "code",
   "execution_count": 94,
   "id": "84c39851",
   "metadata": {},
   "outputs": [],
   "source": [
    "\n",
    "x1=df.drop(['primary_fuel'],axis=1)\n",
    "y1=df['primary_fuel']"
   ]
  },
  {
   "cell_type": "code",
   "execution_count": 95,
   "id": "ac4c9bb8",
   "metadata": {},
   "outputs": [],
   "source": [
    "from sklearn.linear_model import LogisticRegression\n",
    "\n",
    "from sklearn.svm import SVC\n",
    "from sklearn.tree import DecisionTreeClassifier\n",
    "from sklearn.neighbors import KNeighborsClassifier\n",
    "from sklearn.model_selection import train_test_split\n",
    "from sklearn.metrics import accuracy_score,confusion_matrix,classification_report\n",
    "from sklearn.ensemble import RandomForestClassifier\n",
    "from sklearn.ensemble import AdaBoostClassifier\n",
    "from sklearn.ensemble import BaggingClassifier\n",
    "from sklearn.ensemble import GradientBoostingClassifier\n",
    "from sklearn.model_selection import GridSearchCV\n",
    "\n",
    "\n",
    "import warnings\n",
    "from sklearn.model_selection import cross_val_score\n",
    "warnings.filterwarnings('ignore')"
   ]
  },
  {
   "cell_type": "code",
   "execution_count": 96,
   "id": "e6904d57",
   "metadata": {},
   "outputs": [
    {
     "name": "stdout",
     "output_type": "stream",
     "text": [
      "max r2 score correspond to random state 66 is 0.8633328397001347 and model is GradientBoostingClassifier()\n"
     ]
    }
   ],
   "source": [
    "model=[DecisionTreeClassifier(),RandomForestClassifier(),GradientBoostingClassifier(),SVC(),AdaBoostClassifier(),KNeighborsClassifier()]\n",
    "max_acc_score=0\n",
    "for r_state in range(40,90):\n",
    "    x1_train,x1_test,y1_train,y1_test=train_test_split(x1,y1,random_state=r_state,test_size=0.27)\n",
    "    for i in model:\n",
    "        i.fit(x1_train,y1_train)\n",
    "        predx=i.predict(x1_test)\n",
    "        acc_sc=accuracy_score(y1_test,predx)\n",
    "        if acc_sc>max_acc_score:\n",
    "            max_acc_score=acc_sc\n",
    "            final_state=r_state\n",
    "            final_model=i\n",
    "\n",
    "print(\"max r2 score correspond to random state\",final_state,\"is\",max_r2_score,\"and model is\",final_model)"
   ]
  },
  {
   "cell_type": "code",
   "execution_count": 97,
   "id": "e976269c",
   "metadata": {},
   "outputs": [],
   "source": [
    "#splitting the data into 73% training and 27% testing\n",
    "x1_train,x1_test,y1_train,y1_test=train_test_split(x1,y1,test_size=0.27,random_state=60)"
   ]
  },
  {
   "cell_type": "code",
   "execution_count": 98,
   "id": "21e6b581",
   "metadata": {},
   "outputs": [
    {
     "name": "stdout",
     "output_type": "stream",
     "text": [
      "cross validation score for Random Forest Classifier: 0.856064862104188\n"
     ]
    }
   ],
   "source": [
    "rfc=RandomForestClassifier()\n",
    "rfc_score=cross_val_score(rfc,x1,y1,cv=10,scoring='accuracy')\n",
    "print(\"cross validation score for Random Forest Classifier:\",np.mean(rfc_score))"
   ]
  },
  {
   "cell_type": "code",
   "execution_count": 99,
   "id": "715ef787",
   "metadata": {},
   "outputs": [
    {
     "data": {
      "text/plain": [
       "{'criterion': 'gini',\n",
       " 'max_depth': 9,\n",
       " 'max_features': 'log2',\n",
       " 'n_estimators': 200}"
      ]
     },
     "execution_count": 99,
     "metadata": {},
     "output_type": "execute_result"
    }
   ],
   "source": [
    "parameter={'n_estimators':[100,200,350],'max_depth':range(2,10),\n",
    "          'criterion':['gini','entropy'],\n",
    "          'max_features':['auto','sqrt','log2']}\n",
    "GCV2=GridSearchCV(rfc,parameter,cv=10,scoring='accuracy',n_jobs=-1)\n",
    "GCV2.fit(x1_train,y1_train)\n",
    "GCV2.best_params_"
   ]
  },
  {
   "cell_type": "code",
   "execution_count": 100,
   "id": "392e6865",
   "metadata": {},
   "outputs": [
    {
     "name": "stdout",
     "output_type": "stream",
     "text": [
      "0.8755186721991701\n"
     ]
    }
   ],
   "source": [
    "final_mod2=RandomForestClassifier(criterion='gini',max_depth= 9,max_features='sqrt', n_estimators=100)\n",
    "final_mod2.fit(x1_train,y1_train)\n",
    "pred2=final_mod2.predict(x1_test)\n",
    "acc1=accuracy_score(y1_test,pred2)\n",
    "print(acc1)"
   ]
  },
  {
   "cell_type": "code",
   "execution_count": 101,
   "id": "95d4d958",
   "metadata": {},
   "outputs": [
    {
     "name": "stdout",
     "output_type": "stream",
     "text": [
      "CLASSIFICATION REPORT::\n",
      "               precision    recall  f1-score   support\n",
      "\n",
      "           0       0.79      0.85      0.81        13\n",
      "           1       0.85      0.93      0.89        74\n",
      "           2       0.40      0.10      0.16        20\n",
      "           3       0.90      0.98      0.94        65\n",
      "           4       0.00      0.00      0.00         2\n",
      "           5       0.17      0.33      0.22         3\n",
      "           6       1.00      1.00      1.00        35\n",
      "           7       1.00      1.00      1.00        29\n",
      "\n",
      "    accuracy                           0.88       241\n",
      "   macro avg       0.64      0.65      0.63       241\n",
      "weighted avg       0.85      0.88      0.85       241\n",
      "\n"
     ]
    }
   ],
   "source": [
    "print(\"CLASSIFICATION REPORT::\\n\",classification_report(y1_test,pred2))"
   ]
  },
  {
   "cell_type": "code",
   "execution_count": 102,
   "id": "ff460e93",
   "metadata": {},
   "outputs": [],
   "source": [
    "from sklearn.metrics import roc_auc_score"
   ]
  },
  {
   "cell_type": "code",
   "execution_count": 103,
   "id": "1353cc71",
   "metadata": {},
   "outputs": [
    {
     "name": "stdout",
     "output_type": "stream",
     "text": [
      "One-vs-One ROC AUC scores:\n",
      "0.923429 (macro),\n",
      "0.937512 (weighted by prevalence)\n",
      "========================================\n",
      "One-vs-Rest ROC AUC scores:\n",
      "0.940462 (macro),\n",
      "0.969103 (weighted by prevalence)\n"
     ]
    }
   ],
   "source": [
    "y_prob = final_mod2.fit(x1_train,y1_train).predict_proba(x1_test)\n",
    "\n",
    "macro_roc_auc_ovo = roc_auc_score(y1_test, y_prob, multi_class=\"ovo\", average=\"macro\")\n",
    "weighted_roc_auc_ovo = roc_auc_score(y1_test, y_prob, multi_class=\"ovo\", average=\"weighted\")\n",
    "macro_roc_auc_ovr = roc_auc_score(y1_test, y_prob, multi_class=\"ovr\", average=\"macro\")\n",
    "weighted_roc_auc_ovr = roc_auc_score(y1_test, y_prob, multi_class=\"ovr\", average=\"weighted\")\n",
    "print(\"One-vs-One ROC AUC scores:\\n{:.6f} (macro),\\n{:.6f} \"\n",
    "      \"(weighted by prevalence)\"\n",
    "      .format(macro_roc_auc_ovo, weighted_roc_auc_ovo))\n",
    "print(\"=\"*40)\n",
    "print(\"One-vs-Rest ROC AUC scores:\\n{:.6f} (macro),\\n{:.6f} \"\n",
    "      \"(weighted by prevalence)\"\n",
    "      .format(macro_roc_auc_ovr, weighted_roc_auc_ovr))"
   ]
  },
  {
   "cell_type": "code",
   "execution_count": 104,
   "id": "21441854",
   "metadata": {},
   "outputs": [],
   "source": [
    "import joblib"
   ]
  },
  {
   "cell_type": "code",
   "execution_count": 105,
   "id": "7f035c17",
   "metadata": {},
   "outputs": [
    {
     "data": {
      "text/plain": [
       "['Fuel_Classification.obj']"
      ]
     },
     "execution_count": 105,
     "metadata": {},
     "output_type": "execute_result"
    }
   ],
   "source": [
    "joblib.dump(final_mod2,'Fuel_Classification.obj')"
   ]
  },
  {
   "cell_type": "code",
   "execution_count": 106,
   "id": "3cf51624",
   "metadata": {},
   "outputs": [
    {
     "data": {
      "text/html": [
       "<div>\n",
       "<style scoped>\n",
       "    .dataframe tbody tr th:only-of-type {\n",
       "        vertical-align: middle;\n",
       "    }\n",
       "\n",
       "    .dataframe tbody tr th {\n",
       "        vertical-align: top;\n",
       "    }\n",
       "\n",
       "    .dataframe thead th {\n",
       "        text-align: right;\n",
       "    }\n",
       "</style>\n",
       "<table border=\"1\" class=\"dataframe\">\n",
       "  <thead>\n",
       "    <tr style=\"text-align: right;\">\n",
       "      <th></th>\n",
       "      <th>original</th>\n",
       "      <th>predicted</th>\n",
       "    </tr>\n",
       "  </thead>\n",
       "  <tbody>\n",
       "    <tr>\n",
       "      <th>0</th>\n",
       "      <td>3</td>\n",
       "      <td>3</td>\n",
       "    </tr>\n",
       "    <tr>\n",
       "      <th>1</th>\n",
       "      <td>5</td>\n",
       "      <td>5</td>\n",
       "    </tr>\n",
       "    <tr>\n",
       "      <th>2</th>\n",
       "      <td>1</td>\n",
       "      <td>1</td>\n",
       "    </tr>\n",
       "    <tr>\n",
       "      <th>3</th>\n",
       "      <td>3</td>\n",
       "      <td>3</td>\n",
       "    </tr>\n",
       "    <tr>\n",
       "      <th>4</th>\n",
       "      <td>3</td>\n",
       "      <td>3</td>\n",
       "    </tr>\n",
       "    <tr>\n",
       "      <th>...</th>\n",
       "      <td>...</td>\n",
       "      <td>...</td>\n",
       "    </tr>\n",
       "    <tr>\n",
       "      <th>236</th>\n",
       "      <td>3</td>\n",
       "      <td>3</td>\n",
       "    </tr>\n",
       "    <tr>\n",
       "      <th>237</th>\n",
       "      <td>1</td>\n",
       "      <td>1</td>\n",
       "    </tr>\n",
       "    <tr>\n",
       "      <th>238</th>\n",
       "      <td>3</td>\n",
       "      <td>3</td>\n",
       "    </tr>\n",
       "    <tr>\n",
       "      <th>239</th>\n",
       "      <td>1</td>\n",
       "      <td>1</td>\n",
       "    </tr>\n",
       "    <tr>\n",
       "      <th>240</th>\n",
       "      <td>1</td>\n",
       "      <td>1</td>\n",
       "    </tr>\n",
       "  </tbody>\n",
       "</table>\n",
       "<p>241 rows × 2 columns</p>\n",
       "</div>"
      ],
      "text/plain": [
       "     original  predicted\n",
       "0           3          3\n",
       "1           5          5\n",
       "2           1          1\n",
       "3           3          3\n",
       "4           3          3\n",
       "..        ...        ...\n",
       "236         3          3\n",
       "237         1          1\n",
       "238         3          3\n",
       "239         1          1\n",
       "240         1          1\n",
       "\n",
       "[241 rows x 2 columns]"
      ]
     },
     "execution_count": 106,
     "metadata": {},
     "output_type": "execute_result"
    }
   ],
   "source": [
    "a=np.array(y1_test)\n",
    "predicted=np.array(final_mod2.predict(x1_test))\n",
    "df_com=pd.DataFrame({\"original\":a,\"predicted\":predicted},index=range(len(a)))\n",
    "df_com"
   ]
  },
  {
   "cell_type": "code",
   "execution_count": null,
   "id": "866b8034",
   "metadata": {},
   "outputs": [],
   "source": []
  },
  {
   "cell_type": "code",
   "execution_count": null,
   "id": "e7d28d53",
   "metadata": {},
   "outputs": [],
   "source": []
  }
 ],
 "metadata": {
  "kernelspec": {
   "display_name": "Python 3",
   "language": "python",
   "name": "python3"
  },
  "language_info": {
   "codemirror_mode": {
    "name": "ipython",
    "version": 3
   },
   "file_extension": ".py",
   "mimetype": "text/x-python",
   "name": "python",
   "nbconvert_exporter": "python",
   "pygments_lexer": "ipython3",
   "version": "3.8.8"
  }
 },
 "nbformat": 4,
 "nbformat_minor": 5
}
